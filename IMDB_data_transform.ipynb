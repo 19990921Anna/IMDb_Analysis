{
 "cells": [
  {
   "cell_type": "markdown",
   "id": "d3c92da9",
   "metadata": {},
   "source": [
    "# Step 1: Import Data and General Check "
   ]
  },
  {
   "cell_type": "code",
   "execution_count": 1,
   "id": "7a292c04",
   "metadata": {},
   "outputs": [],
   "source": [
    "import pandas as pd\n",
    "import numpy as np\n",
    "import matplotlib.pylab as plt\n",
    "plt.rcParams['figure.figsize'] = (10, 7)"
   ]
  },
  {
   "cell_type": "code",
   "execution_count": 2,
   "id": "fe3a1bc7",
   "metadata": {},
   "outputs": [],
   "source": [
    "df = pd.read_csv(r'C:\\Users\\runzh\\OneDrive\\Desktop\\IMDBdata_MainData.csv')"
   ]
  },
  {
   "cell_type": "code",
   "execution_count": null,
   "id": "34675136",
   "metadata": {},
   "outputs": [],
   "source": [
    "display(df.head(5))"
   ]
  },
  {
   "cell_type": "code",
   "execution_count": 3,
   "id": "c0992535",
   "metadata": {},
   "outputs": [
    {
     "data": {
      "text/plain": [
       "Index(['Title', 'Year', 'Rated', 'Released', 'Runtime', 'Genre', 'Director',\n",
       "       'Writer', 'Actors', 'Plot', 'Language', 'Country', 'Awards', 'Poster',\n",
       "       'Ratings.Source', 'Ratings.Value', 'Metascore', 'imdbRating',\n",
       "       'imdbVotes', 'imdbID', 'Type', 'DVD', 'BoxOffice', 'Production',\n",
       "       'Website', 'Response', 'tomatoURL'],\n",
       "      dtype='object')"
      ]
     },
     "execution_count": 3,
     "metadata": {},
     "output_type": "execute_result"
    }
   ],
   "source": [
    "df.columns"
   ]
  },
  {
   "cell_type": "code",
   "execution_count": 4,
   "id": "ff35959d",
   "metadata": {},
   "outputs": [
    {
     "data": {
      "text/plain": [
       "(5273, 27)"
      ]
     },
     "execution_count": 4,
     "metadata": {},
     "output_type": "execute_result"
    }
   ],
   "source": [
    "df.shape"
   ]
  },
  {
   "cell_type": "code",
   "execution_count": 5,
   "id": "060b9d26",
   "metadata": {},
   "outputs": [
    {
     "name": "stdout",
     "output_type": "stream",
     "text": [
      "Title              object\n",
      "Year                int64\n",
      "Rated              object\n",
      "Released           object\n",
      "Runtime            object\n",
      "Genre              object\n",
      "Director           object\n",
      "Writer             object\n",
      "Actors             object\n",
      "Plot               object\n",
      "Language           object\n",
      "Country            object\n",
      "Awards             object\n",
      "Poster             object\n",
      "Ratings.Source     object\n",
      "Ratings.Value      object\n",
      "Metascore         float64\n",
      "imdbRating        float64\n",
      "imdbVotes          object\n",
      "imdbID             object\n",
      "Type               object\n",
      "DVD                object\n",
      "BoxOffice          object\n",
      "Production         object\n",
      "Website            object\n",
      "Response             bool\n",
      "tomatoURL          object\n",
      "dtype: object\n"
     ]
    }
   ],
   "source": [
    "# check data types\n",
    "# Released column has to be changed\n",
    "# BoxOffice column has to be changed \n",
    "# Runtime column has to be changed\n",
    "\n",
    "print(df.dtypes)"
   ]
  },
  {
   "cell_type": "code",
   "execution_count": 6,
   "id": "11a552bb",
   "metadata": {},
   "outputs": [
    {
     "name": "stdout",
     "output_type": "stream",
     "text": [
      "5261\n"
     ]
    }
   ],
   "source": [
    "# check the unique value of movie title\n",
    "# some repetitive movies but only a small fraction...\n",
    "\n",
    "print(df['Title'].nunique())"
   ]
  },
  {
   "cell_type": "code",
   "execution_count": 7,
   "id": "d141262f",
   "metadata": {},
   "outputs": [
    {
     "name": "stdout",
     "output_type": "stream",
     "text": [
      "Title                0\n",
      "Year                 0\n",
      "Rated              458\n",
      "Released            38\n",
      "Runtime             16\n",
      "Genre                2\n",
      "Director             1\n",
      "Writer              52\n",
      "Actors               7\n",
      "Plot                11\n",
      "Language            10\n",
      "Country              2\n",
      "Awards             811\n",
      "Poster              13\n",
      "Ratings.Source       0\n",
      "Ratings.Value        0\n",
      "Metascore         1397\n",
      "imdbRating           0\n",
      "imdbVotes            0\n",
      "imdbID               0\n",
      "Type                 0\n",
      "DVD                391\n",
      "BoxOffice         2639\n",
      "Production         328\n",
      "Website           1801\n",
      "Response             0\n",
      "tomatoURL           86\n",
      "dtype: int64\n"
     ]
    }
   ],
   "source": [
    "# check missing values \n",
    "\n",
    "print(df.isnull().sum())"
   ]
  },
  {
   "cell_type": "markdown",
   "id": "bd463b41",
   "metadata": {},
   "source": [
    "# Step 2: Transform Data"
   ]
  },
  {
   "cell_type": "code",
   "execution_count": 9,
   "id": "fe2f5338",
   "metadata": {},
   "outputs": [
    {
     "name": "stdout",
     "output_type": "stream",
     "text": [
      "Title                                        Låt den rätte komma ut\n",
      "Year                                                           2010\n",
      "Rated                                                           NaN\n",
      "Released                                                        NaN\n",
      "Runtime                                                      87 min\n",
      "Genre                                        Action, Comedy, Horror\n",
      "Director                                                 Victor Säf\n",
      "Writer                                                   Victor Säf\n",
      "Actors            Lukas Ingström, Kenny Hegg, Emil Gunnarsson, V...\n",
      "Plot              Adam wakes up with his arms chained to the cei...\n",
      "Language                                                        NaN\n",
      "Country                                                         NaN\n",
      "Awards                                                          NaN\n",
      "Poster                                                          NaN\n",
      "Ratings.Source                              Internet Movie Database\n",
      "Ratings.Value                                                4.6/10\n",
      "Metascore                                                       NaN\n",
      "imdbRating                                                      4.6\n",
      "imdbVotes                                                         8\n",
      "imdbID                                                    tt1795620\n",
      "Type                                                          movie\n",
      "DVD                                                             NaN\n",
      "BoxOffice                                                       NaN\n",
      "Production                                                      NaN\n",
      "Website                                                         NaN\n",
      "Response                                                       True\n",
      "tomatoURL                                                       NaN\n",
      "Name: 4207, dtype: object\n"
     ]
    }
   ],
   "source": [
    "# the Runtime of row 4207 when Title is Låt den rätte komma ut is 1 hour 27 minute\n",
    "# need to change Runtime to 87 minutes to keep the unit aligned\n",
    "\n",
    "df.loc[df['Title']=='Låt den rätte komma ut', 'Runtime'] = '87 min'\n",
    "row = df.iloc[4207]\n",
    "print(row)"
   ]
  },
  {
   "cell_type": "code",
   "execution_count": 8,
   "id": "b37f791b",
   "metadata": {},
   "outputs": [],
   "source": [
    "# only extract the number part in the string before space \n",
    "# convert string to number \n",
    "# replace Runtime with 0 when it is NaN \n",
    "\n",
    "df['Runtime_2']=df['Runtime'].str.split().str[0]\n",
    "df['Runtime_2'] = pd.to_numeric(df['Runtime_2'], errors='coerce')\n",
    "df['Runtime_2'] = df['Runtime_2'].fillna(0).astype(int)"
   ]
  },
  {
   "cell_type": "code",
   "execution_count": 9,
   "id": "3e7da13a",
   "metadata": {},
   "outputs": [
    {
     "name": "stdout",
     "output_type": "stream",
     "text": [
      "object\n",
      "int32\n"
     ]
    }
   ],
   "source": [
    "print(df['Runtime'].dtype)\n",
    "print(df['Runtime_2'].dtype)"
   ]
  },
  {
   "cell_type": "code",
   "execution_count": 12,
   "id": "46e54df9",
   "metadata": {},
   "outputs": [
    {
     "name": "stdout",
     "output_type": "stream",
     "text": [
      "Title                                                       Manos: The Hands of Fate\n",
      "Year                                                                            1966\n",
      "Rated                                                                      NOT RATED\n",
      "Released                                                                   15-Nov-66\n",
      "Runtime                                                                       70 min\n",
      "Genre                                                                         Horror\n",
      "Director                                                            Harold P. Warren\n",
      "Writer                                                 Harold P. Warren (screenplay)\n",
      "Actors                             Tom Neyman, John Reynolds, Diane Adelson, Haro...\n",
      "Plot                               A family gets lost on the road and stumbles up...\n",
      "Language                                                                     English\n",
      "Country                                                                          USA\n",
      "Awards                                                                           NaN\n",
      "Poster                             https://images-na.ssl-images-amazon.com/images...\n",
      "Ratings.Source                                               Internet Movie Database\n",
      "Ratings.Value                                                                 1.9/10\n",
      "Metascore                                                                        NaN\n",
      "imdbRating                                                                       1.9\n",
      "imdbVotes                                                                     31,768\n",
      "imdbID                                                                     tt0060666\n",
      "Type                                                                           movie\n",
      "DVD                                                                        07-Oct-03\n",
      "BoxOffice                                                                        NaN\n",
      "Production                                                           Sinister Cinema\n",
      "Website                                                                          NaN\n",
      "Response                                                                        True\n",
      "tomatoURL                          http://www.rottentomatoes.com/m/manos-the-hand...\n",
      "Runtime_2                                                                         70\n",
      "Number of Actors                                                                 4.0\n",
      "Number of Director                                                               1.0\n",
      "Total Number of People Involved                                                  5.0\n",
      "Name: 4, dtype: object\n"
     ]
    }
   ],
   "source": [
    "# check the type of Runtime_2\n",
    "\n",
    "row = df.iloc[4]\n",
    "print(row)"
   ]
  },
  {
   "cell_type": "code",
   "execution_count": 11,
   "id": "5ce6e79c",
   "metadata": {},
   "outputs": [],
   "source": [
    "# get the number of actors for each movie\n",
    "# get the number of directors for each movie\n",
    "# get the total number of people involved for each movie\n",
    "\n",
    "df['Number of Actors']=df['Actors'].str.count(',')+1\n",
    "df['Number of Director']=df['Director'].str.count(',')+1\n",
    "df['Total Number of People Involved']=df['Number of Actors']+df['Number of Director']"
   ]
  },
  {
   "cell_type": "code",
   "execution_count": 13,
   "id": "c29f2b02",
   "metadata": {},
   "outputs": [],
   "source": [
    "import datetime\n",
    "\n",
    "df['Released_2'] = pd.to_datetime(df['Released'],format='%d-%b-%y', errors='coerce')\n",
    "current_year = datetime.datetime.now().year\n",
    "df['Released_2'] = df['Released_2'].apply(lambda x: x.replace(year=x.year - 100) if x.year > current_year else x)\n",
    "df['Released_2'] = df['Released_2'].dt.date"
   ]
  },
  {
   "cell_type": "code",
   "execution_count": 14,
   "id": "45787811",
   "metadata": {},
   "outputs": [],
   "source": [
    "# split genre to multiple columns\n",
    "# one-hot encode the genre column\n",
    "\n",
    "df['Genre'].fillna('N/A', inplace = True)\n",
    "df['Genre_List'] = df['Genre'].str.split(',').apply(lambda x: [item.strip() for item in x])\n",
    "exploded_df = df.explode('Genre_List')\n",
    "one_hot = pd.get_dummies(exploded_df['Genre_List'])\n",
    "one_hot_encoded_df = one_hot.groupby(exploded_df.index).max()"
   ]
  },
  {
   "cell_type": "code",
   "execution_count": 16,
   "id": "1fe2801a",
   "metadata": {},
   "outputs": [
    {
     "data": {
      "text/plain": [
       "Index(['Action', 'Adventure', 'Animation', 'Biography', 'Comedy', 'Crime',\n",
       "       'Documentary', 'Drama', 'Family', 'Fantasy', 'Film-Noir', 'History',\n",
       "       'Horror', 'Music', 'Musical', 'Mystery', 'N/A', 'News', 'Romance',\n",
       "       'Sci-Fi', 'Short', 'Sport', 'Thriller', 'War', 'Western'],\n",
       "      dtype='object')"
      ]
     },
     "metadata": {},
     "output_type": "display_data"
    },
    {
     "data": {
      "text/plain": [
       "(5273, 25)"
      ]
     },
     "metadata": {},
     "output_type": "display_data"
    }
   ],
   "source": [
    "# genre column can be one-hot encoded to 25 distinct columns including N/A...\n",
    "\n",
    "display(one_hot_encoded_df.columns)\n",
    "display(one_hot_encoded_df.shape)"
   ]
  },
  {
   "cell_type": "code",
   "execution_count": 15,
   "id": "967a1f9e",
   "metadata": {},
   "outputs": [
    {
     "data": {
      "text/html": [
       "<div>\n",
       "<style scoped>\n",
       "    .dataframe tbody tr th:only-of-type {\n",
       "        vertical-align: middle;\n",
       "    }\n",
       "\n",
       "    .dataframe tbody tr th {\n",
       "        vertical-align: top;\n",
       "    }\n",
       "\n",
       "    .dataframe thead th {\n",
       "        text-align: right;\n",
       "    }\n",
       "</style>\n",
       "<table border=\"1\" class=\"dataframe\">\n",
       "  <thead>\n",
       "    <tr style=\"text-align: right;\">\n",
       "      <th></th>\n",
       "      <th>genre</th>\n",
       "      <th>count</th>\n",
       "    </tr>\n",
       "  </thead>\n",
       "  <tbody>\n",
       "    <tr>\n",
       "      <th>0</th>\n",
       "      <td>Drama</td>\n",
       "      <td>2738</td>\n",
       "    </tr>\n",
       "    <tr>\n",
       "      <th>1</th>\n",
       "      <td>Comedy</td>\n",
       "      <td>1939</td>\n",
       "    </tr>\n",
       "    <tr>\n",
       "      <th>2</th>\n",
       "      <td>Action</td>\n",
       "      <td>1217</td>\n",
       "    </tr>\n",
       "    <tr>\n",
       "      <th>3</th>\n",
       "      <td>Adventure</td>\n",
       "      <td>953</td>\n",
       "    </tr>\n",
       "    <tr>\n",
       "      <th>4</th>\n",
       "      <td>Crime</td>\n",
       "      <td>930</td>\n",
       "    </tr>\n",
       "  </tbody>\n",
       "</table>\n",
       "</div>"
      ],
      "text/plain": [
       "       genre  count\n",
       "0      Drama   2738\n",
       "1     Comedy   1939\n",
       "2     Action   1217\n",
       "3  Adventure    953\n",
       "4      Crime    930"
      ]
     },
     "execution_count": 15,
     "metadata": {},
     "output_type": "execute_result"
    }
   ],
   "source": [
    "# second way to split genre and get counts of each directly\n",
    "\n",
    "genres_series = df['Genre'].str.split(',\\s*').explode()\n",
    "\n",
    "# Count the occurrences of each genre\n",
    "genre_counts = genres_series.value_counts().reset_index()\n",
    "\n",
    "# Rename columns\n",
    "genre_counts.columns = ['genre', 'count']\n",
    "genre_counts.head()"
   ]
  },
  {
   "cell_type": "code",
   "execution_count": 44,
   "id": "73249643",
   "metadata": {},
   "outputs": [],
   "source": [
    "genre_counts.to_csv(r'C:\\Users\\runzh\\OneDrive\\Desktop\\genre_counts', index=False)"
   ]
  },
  {
   "cell_type": "code",
   "execution_count": 16,
   "id": "9fd76e6e",
   "metadata": {},
   "outputs": [],
   "source": [
    "# split language to multiple columns\n",
    "# one-hot encode the language column\n",
    "\n",
    "df['Language'].fillna('N/A', inplace = True)\n",
    "df['Language_List'] = df['Language'].str.split(',').apply(lambda x: [item.strip() for item in x])\n",
    "exploded_df_2 = df.explode('Language_List')\n",
    "one_hot_2 = pd.get_dummies(exploded_df_2['Language_List'])\n",
    "one_hot_encoded_df_2 = one_hot_2.groupby(exploded_df_2.index).max()"
   ]
  },
  {
   "cell_type": "code",
   "execution_count": 18,
   "id": "e557f284",
   "metadata": {},
   "outputs": [
    {
     "data": {
      "text/plain": [
       "Index(['Aboriginal', 'Acholi', 'Afrikaans', 'Albanian', 'Algonquin',\n",
       "       'American Sign Language', 'Amharic', 'Ancient (to 1453)',\n",
       "       'Apache languages', 'Arabic',\n",
       "       ...\n",
       "       'Turkish', 'Ukrainian', 'Urdu', 'Vietnamese', 'Washoe', 'Welsh',\n",
       "       'Wolof', 'Xhosa', 'Yiddish', 'Zulu'],\n",
       "      dtype='object', length=150)"
      ]
     },
     "metadata": {},
     "output_type": "display_data"
    },
    {
     "data": {
      "text/plain": [
       "(5273, 150)"
      ]
     },
     "metadata": {},
     "output_type": "display_data"
    }
   ],
   "source": [
    "display(one_hot_encoded_df_2.columns)\n",
    "display(one_hot_encoded_df_2.shape)"
   ]
  },
  {
   "cell_type": "code",
   "execution_count": 17,
   "id": "86f3b626",
   "metadata": {},
   "outputs": [
    {
     "data": {
      "text/html": [
       "<div>\n",
       "<style scoped>\n",
       "    .dataframe tbody tr th:only-of-type {\n",
       "        vertical-align: middle;\n",
       "    }\n",
       "\n",
       "    .dataframe tbody tr th {\n",
       "        vertical-align: top;\n",
       "    }\n",
       "\n",
       "    .dataframe thead th {\n",
       "        text-align: right;\n",
       "    }\n",
       "</style>\n",
       "<table border=\"1\" class=\"dataframe\">\n",
       "  <thead>\n",
       "    <tr style=\"text-align: right;\">\n",
       "      <th></th>\n",
       "      <th>Language</th>\n",
       "      <th>count</th>\n",
       "    </tr>\n",
       "  </thead>\n",
       "  <tbody>\n",
       "    <tr>\n",
       "      <th>0</th>\n",
       "      <td>English</td>\n",
       "      <td>4839</td>\n",
       "    </tr>\n",
       "    <tr>\n",
       "      <th>1</th>\n",
       "      <td>Spanish</td>\n",
       "      <td>484</td>\n",
       "    </tr>\n",
       "    <tr>\n",
       "      <th>2</th>\n",
       "      <td>French</td>\n",
       "      <td>476</td>\n",
       "    </tr>\n",
       "    <tr>\n",
       "      <th>3</th>\n",
       "      <td>German</td>\n",
       "      <td>283</td>\n",
       "    </tr>\n",
       "    <tr>\n",
       "      <th>4</th>\n",
       "      <td>Hindi</td>\n",
       "      <td>265</td>\n",
       "    </tr>\n",
       "  </tbody>\n",
       "</table>\n",
       "</div>"
      ],
      "text/plain": [
       "  Language  count\n",
       "0  English   4839\n",
       "1  Spanish    484\n",
       "2   French    476\n",
       "3   German    283\n",
       "4    Hindi    265"
      ]
     },
     "execution_count": 17,
     "metadata": {},
     "output_type": "execute_result"
    }
   ],
   "source": [
    "# second way to split language and get counts of each directly\n",
    "\n",
    "Language_series = df['Language'].str.split(',\\s*').explode()\n",
    "\n",
    "# Count the occurrences of each genre\n",
    "Language_counts = Language_series.value_counts().reset_index()\n",
    "\n",
    "# Rename columns\n",
    "Language_counts.columns = ['Language', 'count']\n",
    "Language_counts.head()"
   ]
  },
  {
   "cell_type": "code",
   "execution_count": 46,
   "id": "3cbc0fb9",
   "metadata": {},
   "outputs": [],
   "source": [
    "Language_counts.to_csv(r'C:\\Users\\runzh\\OneDrive\\Desktop\\Language_counts', index=False)"
   ]
  },
  {
   "cell_type": "code",
   "execution_count": 20,
   "id": "a12026f2",
   "metadata": {},
   "outputs": [],
   "source": [
    "# split country to multiple columns\n",
    "# one-hot encode the country column\n",
    "\n",
    "df['Country'].fillna('N/A', inplace = True)\n",
    "df['Country_List'] = df['Country'].str.split(',').apply(lambda x: [item.strip() for item in x])\n",
    "exploded_df_3 = df.explode('Country_List')\n",
    "one_hot_3 = pd.get_dummies(exploded_df_3['Country_List'])\n",
    "one_hot_encoded_df_3 = one_hot_3.groupby(exploded_df_3.index).max()"
   ]
  },
  {
   "cell_type": "code",
   "execution_count": 21,
   "id": "29677771",
   "metadata": {},
   "outputs": [
    {
     "data": {
      "text/plain": [
       "Index(['Afghanistan', 'Algeria', 'Angola', 'Antarctica', 'Argentina', 'Aruba',\n",
       "       'Australia', 'Austria', 'Bahamas', 'Belgium', 'Bhutan', 'Bolivia',\n",
       "       'Bosnia and Herzegovina', 'Brazil', 'Bulgaria', 'Cambodia', 'Cameroon',\n",
       "       'Canada', 'Chile', 'China', 'Colombia', 'Croatia', 'Cyprus',\n",
       "       'Czech Republic', 'Denmark', 'Dominican Republic', 'Ecuador', 'Egypt',\n",
       "       'Finland', 'France', 'Georgia', 'Germany', 'Ghana', 'Greece',\n",
       "       'Guadeloupe', 'Guyana', 'Hong Kong', 'Hungary', 'Iceland', 'India',\n",
       "       'Indonesia', 'Iran', 'Iraq', 'Ireland', 'Isle Of Man', 'Israel',\n",
       "       'Italy', 'Jamaica', 'Japan', 'Jordan', 'Kazakhstan', 'Kenya', 'Kuwait',\n",
       "       'Kyrgyzstan', 'Latvia', 'Lebanon', 'Libya', 'Liechtenstein',\n",
       "       'Lithuania', 'Luxembourg', 'Malaysia', 'Malta', 'Mexico', 'Monaco',\n",
       "       'Morocco', 'N/A', 'Netherlands', 'New Zealand', 'Nigeria', 'Norway',\n",
       "       'Pakistan', 'Panama', 'Peru', 'Philippines', 'Poland', 'Puerto Rico',\n",
       "       'Romania', 'Russia', 'Saudi Arabia', 'Serbia', 'Singapore', 'Slovakia',\n",
       "       'Slovenia', 'South Africa', 'South Korea', 'Soviet Union', 'Spain',\n",
       "       'Sweden', 'Switzerland', 'Taiwan', 'Thailand', 'Tunisia', 'Turkey',\n",
       "       'UK', 'USA', 'Ukraine', 'United Arab Emirates', 'Vietnam',\n",
       "       'West Germany'],\n",
       "      dtype='object')"
      ]
     },
     "metadata": {},
     "output_type": "display_data"
    },
    {
     "data": {
      "text/plain": [
       "(5273, 99)"
      ]
     },
     "metadata": {},
     "output_type": "display_data"
    }
   ],
   "source": [
    "display(one_hot_encoded_df_3.columns)\n",
    "display(one_hot_encoded_df_3.shape)"
   ]
  },
  {
   "cell_type": "code",
   "execution_count": 22,
   "id": "20fefaf0",
   "metadata": {},
   "outputs": [
    {
     "data": {
      "text/html": [
       "<div>\n",
       "<style scoped>\n",
       "    .dataframe tbody tr th:only-of-type {\n",
       "        vertical-align: middle;\n",
       "    }\n",
       "\n",
       "    .dataframe tbody tr th {\n",
       "        vertical-align: top;\n",
       "    }\n",
       "\n",
       "    .dataframe thead th {\n",
       "        text-align: right;\n",
       "    }\n",
       "</style>\n",
       "<table border=\"1\" class=\"dataframe\">\n",
       "  <thead>\n",
       "    <tr style=\"text-align: right;\">\n",
       "      <th></th>\n",
       "      <th>Country</th>\n",
       "      <th>count</th>\n",
       "    </tr>\n",
       "  </thead>\n",
       "  <tbody>\n",
       "    <tr>\n",
       "      <th>0</th>\n",
       "      <td>USA</td>\n",
       "      <td>4298</td>\n",
       "    </tr>\n",
       "    <tr>\n",
       "      <th>1</th>\n",
       "      <td>UK</td>\n",
       "      <td>762</td>\n",
       "    </tr>\n",
       "    <tr>\n",
       "      <th>2</th>\n",
       "      <td>Germany</td>\n",
       "      <td>411</td>\n",
       "    </tr>\n",
       "    <tr>\n",
       "      <th>3</th>\n",
       "      <td>France</td>\n",
       "      <td>393</td>\n",
       "    </tr>\n",
       "    <tr>\n",
       "      <th>4</th>\n",
       "      <td>Canada</td>\n",
       "      <td>350</td>\n",
       "    </tr>\n",
       "  </tbody>\n",
       "</table>\n",
       "</div>"
      ],
      "text/plain": [
       "   Country  count\n",
       "0      USA   4298\n",
       "1       UK    762\n",
       "2  Germany    411\n",
       "3   France    393\n",
       "4   Canada    350"
      ]
     },
     "execution_count": 22,
     "metadata": {},
     "output_type": "execute_result"
    }
   ],
   "source": [
    "# second way to split country and get counts of each directly\n",
    "\n",
    "Country_series = df['Country'].str.split(',\\s*').explode()\n",
    "\n",
    "# Count the occurrences of each genre\n",
    "Country_counts = Country_series.value_counts().reset_index()\n",
    "\n",
    "# Rename columns\n",
    "Country_counts.columns = ['Country', 'count']\n",
    "Country_counts.head()"
   ]
  },
  {
   "cell_type": "code",
   "execution_count": 50,
   "id": "2eadb730",
   "metadata": {},
   "outputs": [],
   "source": [
    "Country_counts.to_csv(r'C:\\Users\\runzh\\OneDrive\\Desktop\\Country_counts', index=False)"
   ]
  },
  {
   "cell_type": "code",
   "execution_count": 23,
   "id": "8cd504bc",
   "metadata": {},
   "outputs": [],
   "source": [
    "# split director to multiple columns\n",
    "# one-hot encode the director column\n",
    "\n",
    "df['Director'].fillna('N/A', inplace = True)\n",
    "df['Director_List'] = df['Director'].str.split(',').apply(lambda x: [item.strip() for item in x])\n",
    "exploded_df_4 = df.explode('Director_List')\n",
    "one_hot_4 = pd.get_dummies(exploded_df_4['Director_List'])\n",
    "one_hot_encoded_df_4 = one_hot_4.groupby(exploded_df_4.index).max()"
   ]
  },
  {
   "cell_type": "code",
   "execution_count": 24,
   "id": "a28acbfb",
   "metadata": {},
   "outputs": [
    {
     "data": {
      "text/plain": [
       "Index(['A. Raven Cruz', 'A.R. Murugadoss', 'Aamir Khan', 'Aanand L. Rai',\n",
       "       'Aaron Hann', 'Aaron Schneider', 'Aaron Seltzer', 'Aaron T. Wells',\n",
       "       'Abbas Alibhai Burmawalla', 'Abbas Tyrewala',\n",
       "       ...\n",
       "       'Zak Penn', 'Zal Batmanglij', 'Zoran Lisinac', 'Zoya Akhtar',\n",
       "       'Àlex Pastor', 'Álex de la Iglesia', 'Çagan Irmak', 'Émile Gaudreault',\n",
       "       'Éric Tessier', 'Étienne Faure'],\n",
       "      dtype='object', length=2932)"
      ]
     },
     "metadata": {},
     "output_type": "display_data"
    },
    {
     "data": {
      "text/plain": [
       "(5273, 2932)"
      ]
     },
     "metadata": {},
     "output_type": "display_data"
    }
   ],
   "source": [
    "display(one_hot_encoded_df_4.columns)\n",
    "display(one_hot_encoded_df_4.shape)"
   ]
  },
  {
   "cell_type": "code",
   "execution_count": 25,
   "id": "77ae4872",
   "metadata": {},
   "outputs": [
    {
     "data": {
      "text/html": [
       "<div>\n",
       "<style scoped>\n",
       "    .dataframe tbody tr th:only-of-type {\n",
       "        vertical-align: middle;\n",
       "    }\n",
       "\n",
       "    .dataframe tbody tr th {\n",
       "        vertical-align: top;\n",
       "    }\n",
       "\n",
       "    .dataframe thead th {\n",
       "        text-align: right;\n",
       "    }\n",
       "</style>\n",
       "<table border=\"1\" class=\"dataframe\">\n",
       "  <thead>\n",
       "    <tr style=\"text-align: right;\">\n",
       "      <th></th>\n",
       "      <th>Director</th>\n",
       "      <th>count</th>\n",
       "    </tr>\n",
       "  </thead>\n",
       "  <tbody>\n",
       "    <tr>\n",
       "      <th>0</th>\n",
       "      <td>Steven Spielberg</td>\n",
       "      <td>27</td>\n",
       "    </tr>\n",
       "    <tr>\n",
       "      <th>1</th>\n",
       "      <td>Woody Allen</td>\n",
       "      <td>22</td>\n",
       "    </tr>\n",
       "    <tr>\n",
       "      <th>2</th>\n",
       "      <td>Martin Scorsese</td>\n",
       "      <td>21</td>\n",
       "    </tr>\n",
       "    <tr>\n",
       "      <th>3</th>\n",
       "      <td>Clint Eastwood</td>\n",
       "      <td>20</td>\n",
       "    </tr>\n",
       "    <tr>\n",
       "      <th>4</th>\n",
       "      <td>Robert Rodriguez</td>\n",
       "      <td>17</td>\n",
       "    </tr>\n",
       "  </tbody>\n",
       "</table>\n",
       "</div>"
      ],
      "text/plain": [
       "           Director  count\n",
       "0  Steven Spielberg     27\n",
       "1       Woody Allen     22\n",
       "2   Martin Scorsese     21\n",
       "3    Clint Eastwood     20\n",
       "4  Robert Rodriguez     17"
      ]
     },
     "execution_count": 25,
     "metadata": {},
     "output_type": "execute_result"
    }
   ],
   "source": [
    "# second way to split director and get counts of each directly\n",
    "\n",
    "Director_series = df['Director'].str.split(',\\s*').explode()\n",
    "\n",
    "# Count the occurrences of each genre\n",
    "Director_counts = Director_series.value_counts().reset_index()\n",
    "\n",
    "# Rename columns\n",
    "Director_counts.columns = ['Director', 'count']\n",
    "Director_counts.head()"
   ]
  },
  {
   "cell_type": "code",
   "execution_count": 48,
   "id": "99ab8c23",
   "metadata": {},
   "outputs": [],
   "source": [
    "Director_counts.to_csv(r'C:\\Users\\runzh\\OneDrive\\Desktop\\Director_counts', index=False)"
   ]
  },
  {
   "cell_type": "code",
   "execution_count": 26,
   "id": "ced1d77c",
   "metadata": {},
   "outputs": [],
   "source": [
    "# merge several one-hot encode dataframes with the original datasets\n",
    "\n",
    "result_df_5 = pd.concat([df, one_hot_encoded_df, one_hot_encoded_df_2, one_hot_encoded_df_3, one_hot_encoded_df_4], axis=1)"
   ]
  },
  {
   "cell_type": "code",
   "execution_count": 28,
   "id": "2327dbae",
   "metadata": {},
   "outputs": [
    {
     "data": {
      "text/plain": [
       "(5273, 3242)"
      ]
     },
     "metadata": {},
     "output_type": "display_data"
    },
    {
     "data": {
      "text/plain": [
       "(5273, 36)"
      ]
     },
     "metadata": {},
     "output_type": "display_data"
    }
   ],
   "source": [
    "display(result_df_5.shape)\n",
    "display(df.shape)"
   ]
  },
  {
   "cell_type": "code",
   "execution_count": 31,
   "id": "bb6b0198",
   "metadata": {},
   "outputs": [
    {
     "data": {
      "text/plain": [
       "dtype('O')"
      ]
     },
     "metadata": {},
     "output_type": "display_data"
    },
    {
     "data": {
      "text/plain": [
       "dtype('float64')"
      ]
     },
     "metadata": {},
     "output_type": "display_data"
    },
    {
     "data": {
      "text/plain": [
       "130255146582.0"
      ]
     },
     "metadata": {},
     "output_type": "display_data"
    }
   ],
   "source": [
    "# convert box office from string to numeric\n",
    "\n",
    "result_df_5['Box Office_2'] = result_df_5['BoxOffice'].str.replace('[\\$,]', '', regex=True)\n",
    "result_df_5['Box Office_2'] = pd.to_numeric(result_df_5['Box Office_2'], errors='coerce')\n",
    "\n",
    "display(result_df_5['BoxOffice'].dtype)\n",
    "display(result_df_5['Box Office_2'].dtype)\n",
    "display(result_df_5['Box Office_2'].sum())"
   ]
  },
  {
   "cell_type": "code",
   "execution_count": 32,
   "id": "16261ace",
   "metadata": {},
   "outputs": [
    {
     "data": {
      "text/plain": [
       "dtype('O')"
      ]
     },
     "metadata": {},
     "output_type": "display_data"
    },
    {
     "data": {
      "text/plain": [
       "dtype('int64')"
      ]
     },
     "metadata": {},
     "output_type": "display_data"
    },
    {
     "data": {
      "text/plain": [
       "1825626"
      ]
     },
     "metadata": {},
     "output_type": "display_data"
    },
    {
     "data": {
      "text/plain": [
       "6"
      ]
     },
     "metadata": {},
     "output_type": "display_data"
    },
    {
     "data": {
      "text/plain": [
       "86458.16669827423"
      ]
     },
     "metadata": {},
     "output_type": "display_data"
    }
   ],
   "source": [
    "# convert imbd rating to numeric\n",
    "\n",
    "result_df_5['IMBD Vote_2'] = result_df_5['imdbVotes'].str.replace(',', '', regex=True)\n",
    "result_df_5['IMBD Vote_2'] = pd.to_numeric(result_df_5['IMBD Vote_2'])\n",
    "\n",
    "display(result_df_5['imdbVotes'].dtype)\n",
    "display(result_df_5['IMBD Vote_2'].dtype)\n",
    "display(result_df_5['IMBD Vote_2'].max())\n",
    "display(result_df_5['IMBD Vote_2'].min())\n",
    "display(result_df_5['IMBD Vote_2'].mean())"
   ]
  },
  {
   "cell_type": "code",
   "execution_count": 35,
   "id": "5ff6d36c",
   "metadata": {},
   "outputs": [
    {
     "name": "stdout",
     "output_type": "stream",
     "text": [
      "['Title', 'Year', 'Rated', 'Released', 'Runtime', 'Genre', 'Director', 'Writer', 'Actors', 'Plot', 'Language', 'Country', 'Awards', 'Poster', 'Ratings.Source', 'Ratings.Value', 'Metascore', 'imdbRating', 'imdbVotes', 'imdbID', 'Type', 'DVD', 'BoxOffice', 'Production', 'Website', 'Response', 'tomatoURL', 'Runtime_2', 'Number of Actors', 'Number of Director', 'Total Number of People Involved', 'Released_2', 'Genre_List', 'Language_List', 'Country_List', 'Director_List', 'Action', 'Adventure', 'Animation', 'Biography', 'Comedy', 'Crime', 'Documentary', 'Drama', 'Family', 'Fantasy', 'Film-Noir', 'History', 'Horror', 'Music', 'Musical', 'Mystery', 'N/A', 'News', 'Romance', 'Sci-Fi', 'Short', 'Sport', 'Thriller', 'War', 'Western', 'Aboriginal', 'Acholi', 'Afrikaans', 'Albanian', 'Algonquin', 'American Sign Language', 'Amharic', 'Ancient (to 1453)', 'Apache languages', 'Arabic', 'Aramaic', 'Armenian', 'Assamese', 'Assyrian Neo-Aramaic', 'Awadhi', 'Bambara', 'Belarusian', 'Bengali', 'Berber languages', 'Bosnian', 'Brazilian Sign Language', 'British Sign Language', 'Bulgarian', 'Cantonese', 'Catalan', 'Chechen', 'Chinese', 'Cornish', 'Corsican', 'Creoles and pidgins', 'Croatian', 'Czech', 'Danish', 'Dari', 'Dutch', 'Dzongkha', 'Eastern Frisian', 'Egyptian (Ancient)', 'English', 'Esperanto', 'Estonian', 'Filipino', 'Finnish', 'Flemish', 'French', 'Gallegan', 'Georgian', 'German', 'Greek', 'Greenlandic', 'Gujarati', 'Hawaiian', 'Hebrew', 'Hindi', 'Hmong', 'Hokkien', 'Hungarian', 'Icelandic', 'Indonesian', 'Inuktitut', 'Irish', 'Italian', 'Japanese', 'Japanese Sign Language', 'Kannada', 'Kashmiri', 'Kazakh', 'Khmer', 'Kirghiz', 'Klingon', 'Korean', 'Kurdish', 'Ladakhi', 'Lao', 'Latin', 'Lithuanian', 'Luxembourgish', 'Malayalam', 'Mandarin', 'Maori', 'Marathi', 'Maya', 'Mende', 'Middle English', 'Min Nan', 'Mohawk', 'Mongolian', 'N/A', 'Nahuatl', 'Navajo', 'Nepali', 'None', 'Norse', 'North American Indian', 'Norwegian', 'Nyanja', 'Old', 'Old English', 'Panjabi', 'Papiamento', 'Pawnee', 'Persian', 'Polish', 'Portuguese', 'Pushto', 'Quenya', 'Rajasthani', 'Romanian', 'Romany', 'Russian', 'Sanskrit', 'Scots', 'Scottish Gaelic', 'Serbian', 'Serbo-Croatian', 'Shanghainese', 'Sicilian', 'Sign Languages', 'Sindarin', 'Sinhalese', 'Sioux', 'Slovak', 'Slovenian', 'Somali', 'Songhay', 'Southern Sotho', 'Spanish', 'Swahili', 'Swedish', 'Swiss German', 'Syriac', 'Tagalog', 'Tamashek', 'Tamil', 'Tatar', 'Telugu', 'Thai', 'Tibetan', 'Tok Pisin', 'Tonga', 'Turkish', 'Ukrainian', 'Urdu', 'Vietnamese', 'Washoe', 'Welsh', 'Wolof', 'Xhosa', 'Yiddish', 'Zulu', 'Afghanistan', 'Algeria', 'Angola', 'Antarctica', 'Argentina', 'Aruba', 'Australia', 'Austria', 'Bahamas', 'Belgium', 'Bhutan', 'Bolivia', 'Bosnia and Herzegovina', 'Brazil', 'Bulgaria', 'Cambodia', 'Cameroon', 'Canada', 'Chile', 'China', 'Colombia', 'Croatia', 'Cyprus', 'Czech Republic', 'Denmark', 'Dominican Republic', 'Ecuador', 'Egypt', 'Finland', 'France', 'Georgia', 'Germany', 'Ghana', 'Greece', 'Guadeloupe', 'Guyana', 'Hong Kong', 'Hungary', 'Iceland', 'India', 'Indonesia', 'Iran', 'Iraq', 'Ireland', 'Isle Of Man', 'Israel', 'Italy', 'Jamaica', 'Japan', 'Jordan', 'Kazakhstan', 'Kenya', 'Kuwait', 'Kyrgyzstan', 'Latvia', 'Lebanon', 'Libya', 'Liechtenstein', 'Lithuania', 'Luxembourg', 'Malaysia', 'Malta', 'Mexico', 'Monaco', 'Morocco', 'N/A', 'Netherlands', 'New Zealand', 'Nigeria', 'Norway', 'Pakistan', 'Panama', 'Peru', 'Philippines', 'Poland', 'Puerto Rico', 'Romania', 'Russia', 'Saudi Arabia', 'Serbia', 'Singapore', 'Slovakia', 'Slovenia', 'South Africa', 'South Korea', 'Soviet Union', 'Spain', 'Sweden', 'Switzerland', 'Taiwan', 'Thailand', 'Tunisia', 'Turkey', 'UK', 'USA', 'Ukraine', 'United Arab Emirates', 'Vietnam', 'West Germany', 'A. Raven Cruz', 'A.R. Murugadoss', 'Aamir Khan', 'Aanand L. Rai', 'Aaron Hann', 'Aaron Schneider', 'Aaron Seltzer', 'Aaron T. Wells', 'Abbas Alibhai Burmawalla', 'Abbas Tyrewala', 'Abel Ferrara', 'Abhinay Deo', 'Abhishek Chaubey', 'Abhishek Kapoor', 'Abhishek Sharma', 'Abhishek Varman', 'Adam Bernstein', 'Adam Brooks', 'Adam Carolla', 'Adam Elliot', 'Adam Goldberg', 'Adam Green', 'Adam Jay Epstein', 'Adam Marcus', 'Adam McKay', 'Adam Montierth', 'Adam Rapp', 'Adam Rifkin', 'Adam Shankman', 'Adele Cutting', 'Aditya Chopra', 'Aditya Datt', 'Adrian Lyne', 'Adrienne Shelly', 'Agnieszka Holland', 'Agnieszka Wojtowicz-Vosloo', 'Agustín Díaz Yanes', 'Aki Kaurismäki', 'Akira Kurosawa', 'Akiva Goldsman', 'Akiva Schaffer', 'Akshat Verma', 'Al Franklin', 'Al Silliman Jr.', 'Alain Resnais', 'Alan Alda', 'Alan Cohn', 'Alan J. Pakula', 'Alan Jacobs', 'Alan Mak', 'Alan Metter', 'Alan Parker', 'Alan Poul', 'Alan Rudolph', 'Alan Shapiro', 'Alan Taylor', 'Alan Yuen', 'Albert Brooks', 'Albert Hughes', 'Albert Magnoli', 'Alberto De Martino', 'Alec Asten', 'Alec Berg', 'Alejandro Agresti', 'Alejandro Amenábar', 'Alejandro González Iñárritu', 'Alejandro Monteverde', 'Aleksandr Veledinskiy', 'Aleksey German', 'Alessandro Carloni', 'Alex Cox', 'Alex Craig Mann', 'Alex Garland', 'Alex Gibney', 'Alex Kendrick', 'Alex Kurtzman', 'Alex Proyas', 'Alex Ranarivelo', 'Alex Rivera', 'Alex Smith', 'Alex Zamm', 'Alex van Warmerdam', 'Alexander Payne', 'Alexander Witt', 'Alexandre Aja', 'Alexandre Rockwell', 'Alfonso Cuarón', 'Alfred Hitchcock', 'Ali Abbas Zafar', 'Alice Wu', 'Alison Maclean', 'Alister Grierson', 'Allan Arkush', 'Allan Dwan', 'Allen Coulter', 'Allen Hughes', 'Allison Anders', 'Allison Burnett', 'Alphonse Puthren', 'Amal Al-Agroobi', 'Amanda Gusack', 'Amat Escalante', 'Amole Gupte', 'Amy Heckerling', 'Amy Holden Jones', 'Analeine Cal y Mayor', 'Anand K.V.', 'Anand Tucker', 'Andrea Arnold', 'Andrea Di Stefano', 'Andrei Tarkovsky', 'Andrew Adamson', 'Andrew Berends', 'Andrew Bergman', 'Andrew Bujalski', 'Andrew Currie', 'Andrew Davis', 'Andrew Dominik', 'Andrew Douglas', 'Andrew Erwin', 'Andrew Fleming', 'Andrew Gurland', 'Andrew Haigh', 'Andrew Hyatt', 'Andrew J. Smith', 'Andrew Jacobson', 'Andrew Jarecki', 'Andrew Leman', 'Andrew Marton', 'Andrew Morahan', 'Andrew Niccol', 'Andrew S. Walsh', 'Andrew Stanton', 'Andrew Steggall', 'Andrew Traucki', 'Andrew V. McLaglen', 'Andrew Wilson', 'Andrey Konchalovskiy', 'Andrey Zvyagintsev', 'Andrucha Waddington', 'Andrzej Bartkowiak', 'André Téchiné', 'André Øvredal', 'Andrés Couturier', 'Andrés Muschietti', 'Andy Cadiff', 'Andy Fickman', 'Andy Garcia', 'Andy Tennant', 'Ang Lee', 'Angela Robinson', 'Angelina Jolie', 'Angelo Pizzo', 'Anil Sharma', 'Aniruddha Roy Chowdhury', 'Anjali Menon', 'Anna Boden', 'Anna Mastro', 'Anna Muylaert', 'Annabel Jankel', 'Anne Fletcher', 'Anne Fontaine', 'Anne Sundberg', 'Anonymous', 'Anthony Bell', 'Anthony C. Ferrante', 'Anthony Hemingway', 'Anthony Hickox', 'Anthony Mann', 'Anthony Minghella', \"Anthony O'Brien\", 'Anthony Powell', 'Anthony Russo', 'Anthony Silverston', 'Anthony Stacchi', 'Anthony Vallone', 'Antoine Fuqua', 'Anton Corbijn', 'Antoni Krauze', 'Antonia Bird', 'Antonio Banderas', 'Antonio Simoncini', 'Antony Hoffman', 'Anup Bhandari', 'Anurag Basu', 'Anurag Kashyap', 'Anusha Rizvi', 'Anwar Rasheed', 'Apoorva Lakhia', 'Arch Hall Sr.', 'Ari Folman', 'Ari Kirschenbaum', 'Ari Sandel', 'Arie Posin', 'Ariel Schulman', 'Ariel Vromen', 'Arjun Sablok', 'Arnold Stevens', 'Art Vitello', 'Arthur Hiller', 'Arthur Penn', 'Arthur Qwak', 'Arthur Rosson', 'Asger Leth', 'Asghar Farhadi', 'Ash Baron-Cohen', 'Ash Brannon', 'Ashish R. Mohan', 'Ashutosh Gowariker', 'Atom Egoyan', 'Audrey Wells', 'Aune Sand', 'Ava DuVernay', 'Avi Nesher', 'Ayan Mukherjee', 'Aziz Mirza', 'Babak Najafi', 'Babar Ahmed', 'Baltasar Kormákur', 'Barbet Schroeder', 'Barbra Streisand', 'Barnaby Thompson', 'Barrett Esposito', 'Barrie Nelson', 'Barry Cook', 'Barry Levinson', 'Barry Skolnick', 'Barry Sonnenfeld', 'Barry W. Blaustein', 'Bart Freundlich', 'Bathsheba Ratzkoff', 'Baz Luhrmann', 'Becky Smith', 'Beeban Kidron', 'Bejoy Nambiar', 'Ben Affleck', 'Ben Falcone', 'Ben Gluck', 'Ben Lewin', 'Ben Sharpsteen', 'Ben Stassen', 'Ben Stiller', 'Ben Wheatley', 'Ben Younger', 'Benedek Fliegauf', 'Benedikt Erlingsson', 'Benh Zeitlin', 'Benjamin Dickinson', 'Benjamin Renner', 'Benjamin Roberds', 'Bennett Miller', 'Benni Diez', 'Benny Boom', 'Benson Lee', 'Bernardo Bertolucci', 'Bernhard Wicki', 'Beto Gómez', 'Betsy Chasse', 'Betty Thomas', 'Bhaskar', 'Bibo Bergeron', 'Bigas Luna', 'Bill Benenson', 'Bill Condon', 'Bill Couturié', 'Bill Cowell', 'Bill Duke', 'Bill Fishman', 'Bill Melendez', 'Bill Muir', 'Bill Paxton', 'Bill Plympton', 'Bill Rebane', 'Bill Roberts', 'Bille August', 'Bille Woodruff', 'Billy Bob Thornton', 'Billy Kent', 'Billy Ray', 'Billy Wilder', 'Björn Stein', 'Blair Erickson', 'Blair Hayes', 'Blake Edwards', 'Blaz Zavrsnik', 'Bo Welch', 'Bo Zenga', 'Boaz Yakin', 'Bob Clark', 'Bob Dolman', 'Bob Fosse', 'Bob Giraldi', 'Bob Gosse', 'Bob Odenkirk', 'Bob Peterson', 'Bob Rafelson', 'Bob Saget', 'Bob Spiers', 'Bobby Farrelly', 'Bobby Roth', 'Bobcat Goldthwait', 'Bong Joon Ho', 'Bonnie Hunt', 'Boris Rodriguez', 'Brad Anderson', 'Brad Bird', 'Brad Copeland', 'Brad Furman', 'Brad J. Silverman', 'Brad Lewis', 'Brad Peyton', 'Brad Silberling', 'Bradley Parker', 'Bradley Rust Gray', 'Brandon Camp', 'Brandon Cronenberg', 'Brandon Landers', 'Brandon Trost', 'Breck Eisner', 'Brenda Chapman', 'Brendan Malloy', 'Brenna Sanchez', 'Brenton Spencer', 'Brett Kelly', 'Brett Leonard', 'Brett Piper', 'Brett Ratner', 'Brett Winn', 'Brian A Miller', 'Brian Baugh', 'Brian Caunter', 'Brian Dannelly', 'Brian De Palma', 'Brian Dorton', 'Brian Gibson', 'Brian Helgeland', 'Brian Henson', 'Brian Herzlinger', 'Brian Klugman', 'Brian Koppelman', 'Brian Levant', 'Brian Mulroney', 'Brian Percival', 'Brian Robbins', 'Brian Taylor', 'Brian Trenchard-Smith', 'Brian Yuzna', 'Britt Allcroft', 'Bronwen Hughes', 'Bruce Beresford', 'Bruce Campbell', 'Bruce Dellis', 'Bruce Hunt', 'Bruce Macdonald', 'Bruce Malmuth', 'Bruce McCulloch', 'Bruce McDonald', 'Bruce Paltrow', 'Bruno Barreto', 'Bruno Podalydès', 'Bryan Barber', 'Bryan Singer', 'Burr Steers', 'Busby Berkeley', 'Buster Keaton', 'Buzz Kulik', 'Byron Howard', 'C. Fraser Press', 'C. Jay Cox', 'Cal Brunker', 'Callie Khouri', 'Cameron Crowe', 'Camille Delamarre', 'Camillo Teti', 'Carl Franklin', 'Carl Rinsch', 'Carl Theodor Dreyer', 'Carlos Carrera', 'Carlos Saldanha', 'Carlos Saura', 'Carmen Marron', 'Carol Reed', 'Caroline Link', 'Carroll Ballard', 'Carter Smith', 'Cary Bell', 'Caryn Waechter', 'Cassandra Nicolaou', 'Catherine Gund', 'Catherine Hardwicke', 'Catherine Jelski', 'Catherine Owens', 'Cathy Malkasian', 'Cecil B. DeMille', 'Cedric Nicolas-Troyan', 'Celal Çimen', 'Chad Hartigan', 'Chad Kapper', 'Chan-wook Park', 'Chandra Barot', 'Chao-Bin Su', 'Charles Adelman', 'Charles B. Pierce', 'Charles Binamé', 'Charles Chaplin', 'Charles Ferguson', 'Charles Herman-Wurmfeld', 'Charles Laughton', 'Charles Martin Smith', 'Charles Matthau', 'Charles Robert Carner', 'Charles S. Dutton', 'Charles Shyer', 'Charles Stone III', 'Charles T. Kanganis', 'Charlie Kaufman', 'Charlie Levi', 'Chatrichalerm Yukol', 'Cheryl Dunye', 'Chia-Liang Liu', 'Chris Atkins', 'Chris Buck', 'Chris Butler', 'Chris Carter', 'Chris Columbus', \"Chris D'Arienzo\", 'Chris Eyre', 'Chris Gorak', 'Chris Kentis', 'Chris Koch', 'Chris Lofing', 'Chris Marker', 'Chris Miller', 'Chris Nahon', 'Chris Noonan', 'Chris Paine', 'Chris Renaud', 'Chris Roberts', 'Chris Robinson', 'Chris Rock', 'Chris Sanders', 'Chris Shadley', 'Chris Stokes', 'Chris Wedge', 'Chris Weitz', 'Chris Williams', 'Christian Alvart', 'Christian Carion', 'Christian Ditter', 'Christian Duguay', 'Christian Duurvoort', 'Christian E. Christiansen', 'Christian Sesma', 'Christian Volckman', 'Christine Cynn', 'Christine Jeffs', 'Christophe Ali', 'Christophe Barratier', 'Christophe Gans', 'Christopher Cain', 'Christopher Doyle', 'Christopher Erskin', 'Christopher Guest', 'Christopher Hutson', 'Christopher Landon', 'Christopher Leitch', 'Christopher M. Bessette', 'Christopher McQuarrie', 'Christopher Miller', 'Christopher Morris', 'Christopher Nolan', 'Christopher Scott Cherot', 'Christopher Smith', 'Christopher Spencer', 'Chuan Lu', 'Chuck Bowman', 'Chuck Russell', 'Chuck Sheetz', 'Ciarán Foy', 'Clare Kilner', 'Clark Baker', 'Clark Gregg', 'Clark Johnson', 'Claude Chabrol', 'Claude Miller', 'Claudia Llosa', 'Claudia Sainte-Luce', 'Clay Kaytis', 'Clint Eastwood', 'Clive Barker', 'Clyde Bruckman', 'Cody Cameron', 'Coleman Francis', 'Colin Higgins', 'Colin Minihan', 'Colin Strause', 'Colin Trevorrow', 'Collin Joseph Neal', 'Collin Schiffli', 'Conor McMahon', 'Conor McPherson', 'Conrad Vernon', 'Corbin Bernsen', 'Corey Grant', 'Corey Yuen', 'Cory Edwards', 'Costa-Gavras', 'Courtney Hunt', 'Courtney Solomon', 'Craig Bolotin', 'Craig Brewer', 'Craig Frank', 'Craig Gillespie', 'Craig Johnson', 'Craig Mazin', 'Craig Moss', 'Craig R. Baxley', 'Craig Zobel', 'Cris George', 'Cristian Mungiu', 'Curt Willis', 'Curtis Hanson', 'Cyrus Nowrasteh', 'Cédric Klapisch', 'D. Stevens', 'D.J. Caruso', 'D.W. Griffith', 'DJ Pooh', 'Dagur Kári', 'Daisy von Scherler Mayer', 'Damian Nieman', 'Damien Chazelle', 'Damien Dante Wayans', \"Damien O'Donnell\", 'Damir Catic', 'Damián Szifron', 'Damon Santostefano', 'Dan Curtis', 'Dan Cutforth', 'Dan Fogelman', 'Dan Gilroy', 'Dan Harris', 'Dan Ireland', 'Dan Mazer', \"Dan O'Bannon\", 'Dan Perri', 'Dan Reed', 'Dan Rush', 'Dan Scanlon', 'Dan St. Pierre', 'Dan Trachtenberg', 'Dan Zukovic', 'Dana Adam Shapiro', 'Daniel Algrant', 'Daniel Barber', 'Daniel Barnz', 'Daniel Columbie', 'Daniel Davila', 'Daniel Espinosa', 'Daniel Garcia', 'Daniel Hsia', 'Daniel Junge', 'Daniel Lee', 'Daniel Mellitz', 'Daniel Myrick', 'Daniel Petrie Jr.', 'Daniel Sackheim', 'Daniel Schechter', 'Daniel Stamm', 'Daniel Taplitz', 'Daniela Thomas', 'Daniele Luchetti', 'Danny Boyle', 'Danny Cannon', 'Danny DeVito', 'Danny Leiner', 'Danny Pang', 'Danny Perez', 'Danny Provenzano', 'Danny Steinmann', 'Dany Boon', 'Darin Scott', 'Dario Argento', 'Darnell Martin', 'Darrell Roodt', 'Darren Aronofsky', 'Darren Doane', 'Darren Grant', 'Darren Lynn Bousman', 'Darren Press', 'Darren Stein', 'Darryl F. Zanuck', 'Daryl Wein', 'Daston Kalili', 'Dave Borthwick', 'Dave Carroll', 'Dave Green', 'Dave McKean', 'Dave Meyers', 'Dave Payne', 'Dave Rodriguez', 'Dave Willis', 'David Anspaugh', 'David Atkins', 'David Ayer', 'David Bowers', 'David Boyd', 'David Caffrey', 'David Carson', 'David Cronenberg', 'David Cross', 'David DeCoteau', 'David Dobkin', 'David Duchovny', 'David E. Talbert', 'David F. Sandberg', 'David Fincher', 'David Frankel', 'David G. Evans', 'David Gelb', 'David Giancola', 'David Gordon Green', 'David Hackl', 'David Hand', 'David Hayter', 'David Hewlett', 'David Hillenbrand', 'David Hunt', 'David Jacobson', 'David Kellogg', 'David Koepp', 'David LaChapelle', 'David Lam', 'David Lean', 'David Leland', 'David Levien', 'David Lowery', 'David Lynch', 'David M. Matthews', 'David Mamet', 'David Mandel', 'David McNally', 'David Mickey Evans', 'David Mirkin', 'David Moreau', 'David Nixon', 'David Nutter', 'David O. Russell', 'David O. Selznick', 'David Oelhoffen', 'David Palmer', 'David Pastor', 'David Peers', 'David R. Ellis', 'David Ray', 'David Raynr', 'David Robert Mitchell', 'David S. Goyer', 'David S. Ward', 'David Schwimmer', 'David Silverman', 'David Sington', 'David Slade', 'David Soren', 'David Twohy', 'David Wain', 'David Webb Peoples', 'David Winning', 'David Winters', 'David Worth', 'David Yates', 'David Zucker', 'Davis Guggenheim', 'Dax Shepard', 'Dean DeBlois', 'Dean Israelite', 'Dean Parisot', 'Dean Wright', 'Deb Hagan', 'Deborah Anderson', 'Deborah Kaplan', 'Debra Granik', 'Deepa Mehta', 'Demian Lichtenstein', 'Dena Seidel', 'Denis Villeneuve', 'Dennie Gordon', 'Dennis Dugan', 'Dennis Gansel', 'Dennis Hopper', 'Dennis Iliadis', 'Denys Arcand', 'Denzel Washington', 'Deon Taylor', 'Derek Cianfrance', 'Derick Martini', 'Derrick Borte', 'Deryck Broom', 'Des McAnuff', 'Destin Daniel Cretton', 'Dewey Nicks', 'Dexter Fletcher', 'Dharani', 'Dharmendra Suresh Desai', 'Diane English', 'Diane Keaton', 'Dibakar Banerjee', 'Dick Richards', 'Digby Cook', \"Dinesh D'Souza\", 'Dito Montiel', 'Dominic Burns', 'Dominic Sena', 'Dominique Othenin-Girard', 'Don Barton', 'Don Bluth', 'Don Coscarelli', 'Don Hahn', 'Don Hall', 'Don Henderson', 'Don Kempf', 'Don Mancini', 'Don Michael Paul', 'Don Paul', 'Don Scardino', 'Don Siegel', 'Don Taylor', 'Donald Petrie', 'Donovan Cook', 'Donovan Montierth', 'Doug Atchison', 'Doug Block', 'Doug Lefler', 'Doug Liman', 'Doug McHenry', 'Douglas Aarniokoski', 'Douglas Cheek', 'Douglas Conner', 'Douglas McGrath', 'Douglas Trumbull', 'Drake Doremus', 'Drew Barrymore', 'Drew Goddard', 'Dror Moreh', 'Duane Journey', 'Duke Johnson', 'Duncan Jones', 'Duncan Tucker', 'Dustin Hoffman', 'Dwight H. Little', 'Dylan Bank', 'E. Elias Merhige', 'E.L. Katz', 'Ed Bye', 'Ed Decter', 'Ed Gass-Donnelly', 'Ed Harris', \"Eddie O'Flaherty\", 'Edgar Wright', 'Edmund Goulding', 'Eduardo Sánchez', 'Edward Burns', 'Edward Conna', 'Edward Dmytryk', 'Edward Hall', 'Edward Norton', 'Edward Zwick', 'Efram Potelle', 'Eijirô Wakabayashi', 'Ekachai Uekrongtham', 'Elaine May', 'Eldar Rapaport', 'Elem Klimov', 'Eli Craig', 'Eli Kabillio', 'Eli Roth', 'Elia Kazan', 'Elizabeth Allen Rosenbaum', 'Elizabeth Banks', 'Ellory Elkayem', 'Emile Ardolino', 'Emilio Estevez', 'Emily Dell', 'Emily Young', 'Emma-Kate Croghan', 'Emmanuel Benbihy', 'Emmett Malloy', 'Enrique Begné', 'Eric Blakeney', 'Eric Bress', 'Eric Brevig', 'Eric Bross', 'Eric Bugbee', 'Eric Darnell', 'Eric Eason', 'Eric England', 'Eric Goldberg', 'Eric Lartigau', 'Eric Lavaine', 'Eric Leighton', 'Eric Mendelsohn', 'Eric Nicholas', 'Eric Schaeffer', 'Eric Styles', 'Eric Toledano', 'Eric Valette', 'Eric Wareheim', 'Ericson Core', 'Erik Canuel', 'Erik White', 'Ernest R. Dickerson', 'Ernie Barbarash', 'Errol Morris', 'Espen Sandberg', 'Etan Cohen', 'Ethan Coen', 'Ethan Maniquis', 'Eugene Jarecki', 'Eugenio Derbez', 'Eugène Lourié', 'Evan Goldberg', 'Eytan Fox', 'F. Gary Gray', 'F. Javier Gutiérrez', 'F.W. Murnau', 'Fabián Bielinsky', 'Farah Khan', 'Farhad Mann', 'Farhan Akhtar', 'Faruk Aksoy', 'Fatih Akin', 'Fede Alvarez', 'Federico Fellini', 'Fedor Bondarchuk', 'Fenton Bailey', 'Fergal Reilly', 'Fernando Baez Mella', 'Fernando León de Aranoa', 'Fernando Meirelles', 'Feroz Abbas Khan', 'Ferzan Ozpetek', 'Fina Torres', 'Finn Taylor', 'Florence Ayisi', 'Florent-Emilio Siri', 'Floria Sigismondi', 'Florian Henckel von Donnersmarck', 'Ford Beebe Jr.', 'Forest Whitaker', 'Francesca Gregorini', 'Francis Ford Coppola', 'Francis Glebas', 'Francis Lawrence', 'Franck Khalfoun', 'Franco Zeffirelli', 'Frank Borzage', 'Frank Capra', 'Frank Coraci', 'Frank Darabont', 'Frank LaLoggia', 'Frank Lotito', 'Frank Marshall', 'Frank Miller', 'Frank Nissen', 'Frank Oz', 'Frank Passingham', 'Frank Perry', 'Frank Sebastiano', 'Frank Whaley', 'Franklin J. Schaffner', 'François Girard', 'François Ozon', 'François Truffaut', 'Fred Dekker', 'Fred Durst', 'Fred Savage', 'Fred Schepisi', 'Fred Walton', 'Fred Wolf', 'Fred Zinnemann', 'Frederik Du Chau', 'Fritz Böttger', 'Fritz Lang', 'Frédéric Auburtin', 'Frédéric Forestier', 'Gabe Ibáñez', 'Gabor Csupo', 'Gabriela Tagliavini', 'Gabriele Muccino', 'Gareth Edwards', 'Gareth Evans', 'Garry Marshall', 'Garth Davis', 'Garth Jennings', 'Gary Chapman', 'Gary David Goldberg', 'Gary Eck', 'Gary Fleder', 'Gary Goldman', 'Gary Halvorson', 'Gary Hardwick', 'Gary McKendry', 'Gary Nelson', 'Gary Rogers', 'Gary Ross', 'Gary Sherman', 'Gary Shore', 'Gary Sinyor', 'Gary Trousdale', 'Gary Winick', 'Gaspar Noé', 'Gauri Shinde', 'Gautham Menon', 'Gavin Hood', \"Gavin O'Connor\", 'Gavin Wiesen', 'Gaëtan Brizzi', 'Gene Kelly', 'Gene Quintano', 'Gene Teigland', 'Genndy Tartakovsky', 'Geoff Murphy', 'Geoffrey Sax', 'Georg Wilhelm Pabst', 'George A. Romero', 'George Armitage', 'George Clooney', 'George Cukor', 'George Gallo', 'George Hickenlooper', 'George Jackson', 'George Lucas', 'George Mendeluk', 'George Miller', 'George Nolfi', 'George Ogilvie', 'George P. Cosmatos', 'George Ratliff', 'George Roy Hill', 'George Sidney', 'George Stevens', 'George Tillman Jr.', 'George W. Hill', 'Georgia Hilton', 'Gerald Potterton', 'Gerard Johnstone', 'Gerd Oswald', 'Gerry Lively', 'Gia Coppola', 'Gideon Raff', 'Gil Junger', 'Gil Kenan', 'Gilles Paquet-Brenner', 'Gillian Armstrong', 'Gillian Robespierre', 'Gillo Pontecorvo', 'Gina Prince-Bythewood', 'Giovanni Zelko', 'Giuliano Montaldo', 'Giuseppe Tornatore', 'Glen Morgan', 'Glenn Ficarra', 'Gnana Rajasekaran', 'Gonzalo López-Gallego', 'Goran Dukic', 'Gordon Chan', 'Gore Verbinski', 'Graham Annable', 'Graham Heid', 'Grant Heslov', 'Greg Berlanti', 'Greg Coolidge', 'Greg Harrison', 'Greg Marcks', 'Greg Mottola', 'Greg Strause', 'Greg Tiernan', 'Gregor Jordan', 'Gregory Hoblit', 'Gregory Jacobs', 'Gregory Nava', 'Gregory Poirier', 'Gregory Widen', 'Greydon Clark', 'Griffin Dunne', 'Guillaume Canet', 'Guillaume Ivernel', 'Guillermo del Toro', 'Gunasekhar', 'Gurinder Chadha', 'Gus Van Sant', 'Guy Green', 'Guy Hamilton', 'Guy Maddin', 'Guy Ritchie', 'György Gát', 'Gábor Forgács', 'Gérard Depardieu', 'Gérard Krawczyk', 'H.M. Coakley', 'Hal Haberman', 'Hal Needham', 'Ham Tran', 'Hamilton Luske', 'Haneef Adeni', 'Hank Braxtan', 'Hans Canosa', 'Hans Petter Moland', 'Hansal Mehta', 'Hao Ning', 'Harald Reinl', 'Harald Zwart', 'Hark Tsui', 'Harley Cokeliss', 'Harmage Singh Kalirai', 'Harmony Korine', 'Harold Becker', 'Harold Cronk', 'Harold P. Warren', 'Harold Ramis', 'Harold Whitaker', 'Harry Baweja', 'Harry Beaumont', 'Harry Elfont', 'Harry F. Millarde', 'Harry Gantz', 'Hart Bochner', 'Hayao Miyazaki', 'Hayden Schlossberg', 'Hayley Cloake', 'Hector Echavarria', 'Heidi Ewing', 'Hendel Butoy', 'Henri Behar', 'Henri-Georges Clouzot', 'Henry Alex Rubin', 'Henry Bean', 'Henry Hathaway', 'Henry Hobson', 'Henry Jaglom', 'Henry Joost', 'Henry King', 'Henry Koster', 'Henry Selick', 'Herb Freed', 'Herbert Ross', 'Herschell Gordon Lewis', 'Hideaki Anno', 'Hideo Nakata', 'Hilary Brougher', 'Hironobu Sakaguchi', 'Hitoshi Matsumoto', 'Holger Tappe', 'Hong-jin Na', 'Howard Deutch', 'Howard Hawks', 'Howard Hughes', 'Howard Zieff', 'Hoyt Yeatman', 'Hrishikesh Mukherjee', 'Hsiao-Hsien Hou', 'Huck Botko', 'Hue Rhodes', 'Hugh Hudson', 'Hugh Johnson', 'Hugh Wilson', 'Hunter Richards', 'Hyung-rae Shim', 'Iain Softley', 'Ian Fitzgibbon', 'Ian Gamazon', 'Ian Iqbal Rashid', 'Ian Sharp', 'Ice Cube', 'Ignacio Martín Lerma', 'Igor Kovalyov', 'Imtiaz Ali', 'Indra Kumar', 'Ingmar Bergman', 'Inna Evlannikova', 'Ira Sachs', 'Irvin Kershner', 'Irwin Winkler', 'Isaac Florentine', 'Isabel Coixet', 'Isao Takahata', 'István Szabó', 'Ivan Engler', 'Ivan Kavanagh', 'Ivan Passer', 'Ivan Reitman', 'J Blakeson', 'J. Lee Thompson', 'J. Mackye Gruber', 'J.A. Bayona', 'J.B. Rogers', 'J.C. Chandor', 'J.J. Abrams', 'J.P. Dutta', 'J.S. Cardone', 'J.V.V. Sathyanarayana', 'JK Youn', 'Jack Bravman', 'Jack Conway', 'Jack Heller', 'Jack Kinney', 'Jack Perez', 'Jack Sholder', 'Jack Smight', 'Jack Stokes', 'Jackie Chan', 'Jackie Earle Haley', 'Jaco Booyens', 'Jacob Estes', 'Jacques Cluzaud', 'Jacques Perrin', 'Jacques Tourneur', 'Jafar Panahi', 'Jaime Zevallos', 'Jake Goldberger', 'Jake Kasdan', 'Jake Paltrow', 'Jake Schreier', 'Jake Scott', 'Jamaa Fanaka', 'Jamal Hill', 'Jamel Debbouze', 'James Algar', 'James Bidgood', 'James Bobin', 'James Bridges', 'James Cameron', 'James Cox', 'James D. Stern', 'James David Pasternak', 'James DeMonaco', 'James Dodson', 'James Duffy', 'James Fargo', 'James Foley', 'James Franco', 'James Frawley', 'James Gartner', 'James Gray', 'James Gunn', 'James Isaac', 'James Ivory', 'James Kerwin', 'James L. Brooks', 'James Manera', 'James Mangold', 'James Marsh', 'James Mather', 'James McTeigue', 'James Melkonian', 'James Mottern', 'James Nguyen', 'James Nunn', \"James O'Brien\", 'James Ponsoldt', 'James Schamus', 'James Swirsky', 'James Toback', 'James Wan', 'James Watkins', 'James Whale', 'James Wong', 'Jamie Babbit', 'Jamie Blanks', 'Jamie Thraves', 'Jamie Travis', 'Jamin Winans', 'Jan Pinkava', 'Jan de Bont', 'Jane Campion', 'Jane Clark', 'Jane Lipsitz', 'Janusz Kaminski', 'Jared Bush', 'Jared Hess', 'Jason Alexander', 'Jason Bateman', 'Jason Connery', 'Jason Eisener', 'Jason Friedberg', 'Jason Marsden', 'Jason Maurer', 'Jason Miller', 'Jason Moore', 'Jason Naumann', 'Jason Reitman', 'Jason Stone', 'Jason Trost', 'Jason Zada', 'Jaume Balagueró', 'Jaume Collet-Serra', 'Javier Abad', 'Jay Alaimo', 'Jay Chandrasekhar', 'Jay Duplass', 'Jay Levey', 'Jay Oliva', 'Jay Roach', 'Jay Russell', 'Je-kyu Kang', 'Jean Duval', 'Jean Negulesco', 'Jean-François Richet', 'Jean-Jacques Annaud', 'Jean-Jacques Mantello', 'Jean-Luc Godard', 'Jean-Marc Barr', 'Jean-Marc Vallée', 'Jean-Marie Poiré', 'Jean-Paul Rappeneau', 'Jean-Pierre Jeunet', 'Jeannot Szwarc', 'Jeb Stuart', 'Jee-woon Kim', 'Jeethu Joseph', 'Jeff Burr', 'Jeff Crook', 'Jeff Franklin', 'Jeff Garlin', 'Jeff Kanew', 'Jeff Lowell', 'Jeff McGrath', 'Jeff Nathanson', 'Jeff Newitt', 'Jeff Nichols', 'Jeff Schaffer', 'Jeff Tremaine', 'Jeff Wadlow', 'Jeffrey Katzenberg', 'Jeffrey St. Jules', 'Jeffrey W. Byrd', 'Jehane Noujaim', 'Jem Cohen', 'Jennifer Arnold', 'Jennifer Finnigan', 'Jennifer Flackett', 'Jennifer Lee', 'Jennifer Wynne Farmer', 'Jennifer Yuh Nelson', 'Jeremy Brock', 'Jeremy Degruson', 'Jeremy Leven', 'Jeremy Passmore', 'Jeremy Saulnier', 'Jeremy Sims', 'Jerome Elston Scott', 'Jerome Robbins', 'Jerry Belson', 'Jerry Dugan', 'Jerry Jameson', 'Jerry Rees', 'Jerry Warren', 'Jerry Zaks', 'Jerry Zucker', 'Jesse Dylan', 'Jesse Peretz', 'Jesse Vaughan', 'Jessica Bendinger', 'Jessie Nelson', 'Jessy Terrero', 'Jeta Amata', 'Jez Butterworth', 'Jill Culton', 'Jill Sprecher', 'Jim Abrahams', 'Jim Amatulli', 'Jim Chuchu', 'Jim Fall', 'Jim Field Smith', 'Jim Gillespie', 'Jim Goddard', 'Jim Handley', 'Jim Hanon', 'Jim Issa', 'Jim Jarmusch', 'Jim Mickle', 'Jim Rash', 'Jim Sheridan', 'Jim Sonzero', 'Jimmy Hayward', 'Jimmy T. Murakami', 'Jirí Menzel', 'Joachim Rønning', 'Joan Chen', 'Joby Harold', 'Jodie Foster', 'Jody Hill', 'Joe Berlinger', 'Joe Camp', 'Joe Carnahan', 'Joe Chappelle', 'Joe Charbanic', 'Joe Cornish', 'Joe Cross', \"Joe D'Amato\", 'Joe Dante', 'Joe Gantz', 'Joe Johnston', 'Joe Kenemore', 'Joe Marino', 'Joe Nussbaum', 'Joe Pytka', 'Joe Ranft', 'Joe Roth', 'Joe Russo', 'Joe Swanberg', 'Joe Wright', 'Joel Anderson', 'Joel Coen', 'Joel Edgerton', 'Joel Gallen', 'Joel Paul Reisig', 'Joel Schumacher', 'Joel Silverman', 'Joel Zwick', 'Joey Lauren Adams', 'Johanna Schwartz', \"John 'Bud' Cardos\", 'John A. Davis', 'John Badham', 'John Bonito', 'John Boorman', 'John Bruno', 'John Cameron Mitchell', 'John Carl Buechler', 'John Carney', 'John Carpenter', 'John Cornell', 'John Cromwell', 'John Crowley', 'John Curran', 'John D. Hancock', 'John Dahl', 'John Derek', 'John Dower', 'John Duigan', 'John Eng', 'John Erick Dowdle', 'John Ford', 'John Fortenberry', 'John Francis Daley', 'John Frankenheimer', 'John G. Avildsen', 'John Gatins', 'John Glen', 'John Gray', 'John Guillermin', 'John Gulager', 'John H. Lee', 'John Halas', 'John Hamburg', 'John Herzfeld', 'John Hillcoat', 'John Hoffman', 'John Huston', 'John Lafia', 'John Laing', 'John Landis', 'John Lasseter', 'John Lee Hancock', 'John Luessenhop', 'John Maclean', 'John Madden', 'John Mathew Matthan', 'John Maybury', 'John McNaughton', 'John McTiernan', 'John Michael McDonagh', 'John Milius', 'John Moore', 'John Murlowski', 'John Musker', 'John Ottman', 'John Pasquin', 'John Patrick Shanley', 'John Polson', 'John Putch', 'John R. Leonetti', 'John Reinhardt', 'John Requa', 'John Sanford', 'John Sayles', 'John Schlesinger', 'John Schultz', 'John Simpson', 'John Singleton', 'John Stainton', 'John Stephenson', 'John Stevenson', 'John Stockwell', 'John Sturges', 'John Sullivan', 'John Turturro', 'John Waters', 'John Wells', 'John Whitesell', 'John Woo', 'Johnnie To', 'Johnny Remo', 'Jon Amiel', 'Jon Avnet', 'Jon Cassar', 'Jon Erwin', 'Jon Favreau', 'Jon Gunn', 'Jon Hess', 'Jon Hurwitz', 'Jon Kasdan', 'Jon Knautz', 'Jon Lucas', 'Jon M. Chu', 'Jon Poll', 'Jon Shear', 'Jon Stewart', 'Jon Turteltaub', 'Jon Watts', 'Jon Wright', 'Jonas Elmer', 'Jonas Åkerlund', 'Jonathan Caouette', 'Jonathan Dayton', 'Jonathan Demme', 'Jonathan English', 'Jonathan Frakes', 'Jonathan Glazer', 'Jonathan Goldstein', 'Jonathan Hensleigh', 'Jonathan Jakubowicz', 'Jonathan Kaplan', 'Jonathan Kesselman', 'Jonathan Levine', 'Jonathan Liebesman', 'Jonathan Lynn', 'Jonathan Meyers', 'Jonathan Mostow', 'Jonathan Newman', 'Jonathan Parker', 'Jonathan R. Betuel', 'Jonathan Schroder', 'Jonathan Silverman', 'Jonathan Teplitzky', 'Jonathan Wacks', 'Jonathan van Tulleken', 'Jordan Reyes', 'Jorge Blanco', 'Jorge Gaggero', 'Jorge R. Gutiérrez', 'Jorge Ramírez Suárez', 'Jorma Taccone', 'Josef Rusnak', 'Josef von Sternberg', 'Joseph Dorman', 'Joseph Gordon-Levitt', 'Joseph Graham', 'Joseph Green', 'Joseph Kahn', 'Joseph Kosinski', 'Joseph L. Mankiewicz', 'Joseph Mazzella', 'Joseph Ruben', 'Joseph Sargent', 'Joseph Zito', 'Josh Boone', 'Josh Crook', 'Josh Gordon', 'Josh Schwartz', 'Josh Trank', 'Joshua Logan', 'Joshua Marston', 'Joshua Michael Stern', 'Joshua Oppenheimer', 'Joshua Seftel', 'Joshua Tickell', 'Joss Whedon', 'José Luis Valenzuela', 'José Padilha', 'Juan Carlos Fresnadillo', 'Juan José Campanella', 'Juan Piquer Simón', 'Judd Apatow', 'Judy Morris', 'Jugal Hansraj', 'Julian Gilbey', 'Julian Harris', 'Julian Jarrold', 'Julian Schnabel', 'Julie Anne Robinson', 'Julie Davis', 'Julie Taymor', 'Julien Temple', 'Julio DePietro', 'Jun Falkenstein', 'Juraj Jakubisko', 'Justin Chadwick', 'Justin Dillon', 'Justin Kerrigan', 'Justin Lin', 'Justin Molotnikov', 'Justin Paul Miller', 'Justin Thomas Ostensen', 'Justin Tipping', 'Justin Zackham', 'János Uzsák', 'Jérôme Salle', 'K. King', 'K.S. Ravikumar', 'Kabir Khan', 'Kabir Sadanand', 'Kaige Chen', 'Kamal Haasan', 'Kanti Shah', 'Kar-Wai Wong', 'Karan Johar', 'Karen Moncrieff', 'Karey Kirkpatrick', 'Kari Skogland', 'Karim Akadiri Soumaïla', 'Karim Aïnouz', 'Kartal Tibet', 'Karthik Subbaraj', 'Karyn Kusama', 'Kasi Lemmons', 'Kasper Wedendahl', 'Kat Coiro', 'Kate Barker-Froyland', 'Kate Connor', 'Katherine Brooks', 'Katherine Dieckmann', 'Kathryn Bigelow', 'Katie Aselton', 'Katja von Garnier', 'Katsuhiro Ôtomo', 'Katt Shea', 'Kay Pollak', 'Keenen Ivory Wayans', 'Keith Gordon', 'Keith Parmer', 'Kelly Asbury', 'Kelly Makin', 'Kelly Reichardt', 'Ken Annakin', 'Ken Del Conte', 'Ken Kwapis', 'Ken Loach', 'Ken Roht', 'Ken Scott', 'Ken Shapiro', 'Kenneth Branagh', 'Kenneth Johnson', 'Kenneth Lonergan', 'Kenny Ortega', 'Kent Alterman', 'Kerry Conran', 'Ketan Mehta', 'Kevin Allen', 'Kevin Alyn Elders', 'Kevin Bray', 'Kevin Brodie', 'Kevin Carraway', 'Kevin Costner', 'Kevin Donovan', 'Kevin Greutert', 'Kevin Hamedani', 'Kevin Hench', 'Kevin Hooks', 'Kevin Jarre', 'Kevin Jordan', 'Kevin Lima', 'Kevin Macdonald', 'Kevin Munroe', 'Kevin Reynolds', 'Kevin Rodney Sullivan', 'Kevin Smith', 'Kevin Spacey', 'Kevin Tancharoen', 'Kevin Tenney', 'Khalid Mohamed', 'Khalil Sullins', 'Khyentse Norbu', 'Kief Davidson', 'Kim Farrant', 'Kim J. Ok', 'Kim Longinotto', 'Kim Nguyen', 'Kimberly Peirce', 'Kimble Rendall', 'King Vidor', 'Kinji Fukasaku', 'Kinka Usher', 'Kiran Rao', 'Kirk De Micco', 'Kirk Jones', 'Kirk Loudon', 'Kirk Wise', 'Kirk Wong', 'Kirsten Sheridan', 'Kiyoshi Kurosawa', 'Klaus Menzel', 'Koratala Siva', 'Kris Isacsson', 'Kris Pearn', 'Krish Jagarlamudi', 'Kristin Rizzo', 'Kriv Stenders', 'Kunal Kohli', 'Kundan Shah', 'Kunihiko Yuyama', 'Kurt Engfehr', 'Kurt Hale', 'Kurt Voss', 'Kurt Wimmer', 'Kushal Ved Bakshi', 'Kyle Balda', 'Kyle Rankin', 'Kátia Lund', 'Kôji Ohta', 'Lajos Koltai', 'Lamberto Bava', 'Lana Wachowski', 'Lance Hool', 'Lance Kawas', 'Lance McDaniel', 'Lance Mungia', 'Lance Rivera', 'Larry Blamire', 'Larry Charles', 'Larry Clark', 'Larry Karaszewski', 'Larry Morey', 'Lars von Trier', 'Laslo Benedek', 'Lasse Hallström', 'Laura Lau', 'Lauren Lazin', 'Laurence Dunmore', 'Laurent Bouhnik', 'Laurent Cantet', 'Laurent Tirard', 'Laurie Collyer', 'Lawrence Guterman', 'Lawrence Kasanoff', 'Lawrence Kasdan', 'Lee Daniels', 'Lee Matthews', 'Lee Sternthal', 'Lee Tamahori', 'Lee Toland Krieger', 'Lee Unkrich', 'Leigh Whannell', 'Len Wiseman', 'Lena Dunham', 'Lenny Abrahamson', 'Leon Ford', 'Leon Ichaso', 'Leonard Farlinger', 'Leonard Nimoy', 'Leos Carax', 'Les Mayfield', 'Leslie H. Martinson', 'Leslie Small', 'Leslye Headland', 'Levan Gabriadze', 'Lewis Gilbert', 'Lewis Milestone', 'Lexi Alexander', 'Li Zhang', 'Lijun Sun', 'Liliana Cavani', 'Lilly Wachowski', 'Linda Mendoza', 'Lionel C. Martin', 'Lisa Azuelos', 'Lisa Cholodenko', 'Lisa France', 'Lisanne Pajot', 'Liv Ullmann', 'Livingston Oden', 'Liz Friedlander', 'Lloyd Bacon', 'Lloyd Kaufman', 'Lluís Quílez', 'Lone Scherfig', 'Lorene Scafaria', 'Lori Petty', 'Lori Silverbush', 'Lorna Cook', 'Louis C.K.', 'Louis Leterrier', 'Louis Morneau', 'Loveleen Tandan', 'Lowell Sherman', 'Luc Besson', 'Luc Jacquet', 'Luca Guadagnino', 'Lucile Hadzihalilovic', 'Lucio Fulci', 'Lucky McKee', 'Lucrecia Martel', 'Luis Enrique Rodríguez', 'Luis Llosa', 'Luis Mandoki', 'Luis Valdez', 'Lukas Moodysson', 'Luke Dye', 'Luke Greenfield', 'Luke Wilson', 'Luv Ranjan', 'Lynn Shelton', 'Lynne Ramsay', 'Léa Pool', 'M. Night Shyamalan', 'M. Raja', 'Mabel Cheung', 'Mabrouk El Mechri', 'Madhur Bhandarkar', 'Maggie Carey', 'Maggie Greenwald', 'Mahesh Manjrekar', 'Mahmood Farooqui', 'Majid Majidi', 'Makoto Shinkai', 'Maksim Fadeev', 'Maksim Sveshnikov', 'Malcolm D. Lee', 'Malcolm Goodwin', 'Maneesh Sharma', 'Mani Ratnam', 'Mansoor Khan', 'Manuel Marín', 'Marc Abraham', 'Marc Bennett', 'Marc F. Adler', 'Marc Forby', 'Marc Forster', 'Marc Lawrence', 'Marc Levin', 'Marc Schölermann', 'Marc Webb', 'Marcio Garcia', 'Marco Kreuzpaintner', 'Marco Schnabel', 'Marcos Martínez', 'Marcos Siega', 'Marcus Dunstan', 'Marcus Nispel', 'Marcus Raboy', 'Maria Maggenti', 'Marianna Palka', 'Marielle Heller', 'Mariette Monpierre', 'Marilyn Agrelo', 'Mario Miscione', 'Mario Van Peebles', 'Marius A. Markevicius', 'Marjane Satrapi', 'Mark A.Z. Dippé', 'Mark Andrews', 'Mark Brown', 'Mark Christopher', 'Mark Cullen', 'Mark Dindal', 'Mark Duplass', 'Mark Griffiths', 'Mark Helfrich', 'Mark Herman', 'Mark Illsley', 'Mark L. Lester', 'Mark Levin', 'Mark Mylod', 'Mark Neveldine', 'Mark Osborne', 'Mark Pellington', 'Mark Piznarski', 'Mark Romanek', 'Mark Rosman', 'Mark Rydell', 'Mark Sandrich', 'Mark Steven Johnson', 'Mark Tarlov', 'Mark Tonderai', 'Mark Vicente', 'Mark Waters', 'Mark Young', 'Mars Callahan', 'Martha Coolidge', 'Martin Brest', 'Martin Campbell', 'Martin Koolhoven', 'Martin Lawrence', 'Martin McDonagh', 'Martin Ritt', 'Martin Scorsese', 'Martin Weisz', 'Martyn Pick', 'Mary Harron', 'Mary Lambert', 'Mary McGuckian', 'Mary Pat Kelly', 'Maryam Keshavarz', 'Masayuki Ochiai', 'Mastan Alibhai Burmawalla', 'Mateo Gil', 'Mathieu Amalric', 'Mathieu Kassovitz', 'Matt Bettinelli-Olpin', 'Matt Birch', 'Matt Cimber', 'Matt Dillon', 'Matt Jackson', 'Matt Johnson', 'Matt Maiellaro', 'Matt Piedmont', 'Matt Reeves', 'Matt Walsh', 'Matt Williams', 'Matthew Bright', 'Matthew Diamond', 'Matthew Hastings', 'Matthew Mebane', \"Matthew O'Callaghan\", 'Matthew R. Anderson', 'Matthew Robbins', 'Matthew Robinson', 'Matthew Vaughn', 'Matthew Watts', 'Matty Rich', 'Maurice Joyce', 'Mauricio De la Orta', 'Maurizio Benazzo', 'Max Färberböck', 'Max Joseph', 'Max Mayer', 'Maysoon Pachachi', 'Maïwenn', 'McG', 'Meghna Gulzar', 'Mehboob Khan', 'Meiert Avis', 'Mel Brooks', 'Mel Gibson', 'Mel Smith', 'Mel Stuart', 'Melville Shavelson', 'Melvin Van Peebles', 'Mennan Yapo', 'Menno Meyjes', 'Mervyn LeRoy', 'Mic Rodgers', 'Michael Anderson', 'Michael Apted', 'Michael Bay', 'Michael Burke', 'Michael Caton-Jones', 'Michael Chapman', 'Michael Cimino', 'Michael Clancy', 'Michael Cohn', 'Michael Corrente', 'Michael Crichton', 'Michael Cristofer', 'Michael Cuesta', 'Michael Curtiz', 'Michael D. Olmos', 'Michael D. Sellers', 'Michael David Pate', 'Michael Dinner', 'Michael Dougherty', 'Michael Dowse', 'Michael Gornick', 'Michael Haigney', 'Michael Haneke', 'Michael Herz', 'Michael Hoffman', 'Michael Hoffman Jr.', 'Michael J. Bassett', 'Michael Jai White', 'Michael Kang', 'Michael Landon Jr.', 'Michael Lehmann', 'Michael Lembeck', 'Michael Mann', 'Michael Martin', 'Michael Mayer', 'Michael McCullers', 'Michael McGowan', 'Michael Meredith', 'Michael Moore', 'Michael O. Sajbel', 'Michael Patrick Jann', 'Michael Patrick King', 'Michael Polish', 'Michael Pressman', 'Michael Radford', 'Michael Rae', 'Michael Rissi', 'Michael Ritchie', 'Michael Roemer', 'Michael Rymer', 'Michael Schultz', 'Michael Skolnik', 'Michael Spierig', 'Michael Sucsy', 'Michael Taliferro', 'Michael Tiddes', 'Michael Tollin', 'Michael Wadleigh', 'Michael Walker', 'Michael Winner', 'Michael Winnick', 'Michael Winterbottom', 'Michael Worth', 'Michel Debats', 'Michel Gondry', 'Michel Hazanavicius', 'Michel Leclerc', 'Michel Orion Scott', 'Mick Jackson', 'Mickey Liddell', 'Miguel Arteta', 'Miguel Sapochnik', 'Mikael Håfström', 'Mikael Salomon', 'Mike Barker', 'Mike Bigelow', 'Mike Binder', 'Mike Bruce', 'Mike Cahill', 'Mike Disa', 'Mike Figgis', 'Mike Flanagan', 'Mike Gabriel', 'Mike Hodges', 'Mike Johnson', 'Mike Judge', 'Mike Leigh', 'Mike Marvin', 'Mike Mayhall', 'Mike McCoy', 'Mike Mills', 'Mike Mitchell', 'Mike Nawrocki', 'Mike Newell', 'Mike Nichols', 'Mike Thurmeier', 'Mike de Seve', 'Mike van Diem', 'Mikel Rueda', 'Milan Luthria', 'Milos Forman', 'Mimi Leder', 'Mina T. Son', 'Mira Nair', 'Miranda July', 'Mitch Davis', 'Mitchell Altieri', 'Mitchell Lichtenstein', 'Molly Bernstein', 'Mona Fastvold', 'Monte Hellman', 'Mor Loushy', 'Mora Stephens', 'Morgan J. Freeman', 'Morgan Neville', 'Morgan Spurlock', 'Mort Nathan', 'Morten Tyldum', 'Motonori Sakakibara', 'Moustapha Akkad', 'Mukul Anand', 'Mustafa Altioklar', 'Myles Berkowitz', 'Måns Mårlind', 'N/A', 'Nacho Vigalondo', 'Nadia Tass', 'Nadine Labaki', 'Nae Caranfil', 'Nagesh Kukunoor', 'Nagraj Manjule', 'Nancy Meyers', 'Nancy Walker', 'Nanette Burstein', 'Nat Faxon', \"Natalie Bible'\", 'Nate Parker', 'Nathan Frankowski', 'Nathan Greno', 'Nathan Smith Jones', 'Navdeep Singh', 'Neal Brennan', 'Neal Sundstrom', 'Neema Barnette', 'Neeraj Ghaywan', 'Neeraj Pandey', 'Neil Burger', 'Neil Jordan', 'Neil LaBute', 'Neil Marshall', 'Neil Mcenery-West', 'Neil Nightingale', 'Neill Blomkamp', 'Neill Dela Llana', 'Nelson McCormick', 'Newt Arnold', 'Niall Johnson', 'Nicholas Fackler', 'Nicholas Hytner', 'Nicholas Jarecki', 'Nicholas Meyer', 'Nicholas Ray', 'Nicholas Stoller', 'Nicholas Webster', 'Nicholaus Goossen', 'Nick Cassavetes', 'Nick Day', 'Nick Gomez', 'Nick Hamm', 'Nick Hurran', 'Nick Love', 'Nick Murphy', 'Nick Park', 'Nick Tomnay', 'Nickolas Perry', 'Nicolae Constantin Tanase', 'Nicolas Bonilauri', 'Nicolas Winding Refn', 'Nicole Holofcener', 'Niels Arden Oplev', 'Nigel Cole', 'Niki Caro', 'Nikkhil Advani', 'Nils Gaup', 'Nima Nourizadeh', 'Nimród Antal', 'Nishikant Kamat', 'Nitesh Tiwari', 'Nnegest Likké', 'Noah Baumbach', 'Noah Buschel', 'Noam Murro', 'Nobuhiro Suwa', 'Noel Marshall', 'Nora Ephron', 'Nora Twomey', 'Norman Ferguson', 'Norman Jewison', 'Norman Taurog', 'Norman Wright', 'Norton Virgien', 'Ol Parker', 'Olatunde Osunsanmi', 'Ole Bornedal', 'Ole Christian Madsen', 'Oleg Stepchenko', 'Oliver Blackburn', 'Oliver Hirschbiegel', 'Oliver Parker', 'Oliver Schmitz', 'Oliver Stone', 'Olivier Assayas', 'Olivier Dahan', 'Olivier Megaton', 'Olivier Nakache', 'Oren Moverman', 'Oren Peli', 'Orlando Corradi', 'Orson Welles', 'Ossie Davis', 'Otto Brower', 'Otto Preminger', 'Oxide Chun Pang', 'P.J. Hogan', 'Paco Plaza', 'Pamela J. Richardson', 'Pan Nalin', 'Panik Qulture', 'Panna Rittikrai', 'Panos Cosmatos', 'Paolo Monico', 'Paolo Sorrentino', 'Pascal Arnold', 'Pascal Chaumeil', 'Pascal Vuong', 'Pat Holden', \"Pat O'Connor\", 'Patrice Leconte', 'Patricia Cardoso', 'Patricia Riggen', 'Patricia Rozema', 'Patrick Creadon', 'Patrick Doughtie', 'Patrick Gilles', 'Patrick Gilmore', 'Patrick Hughes', 'Patrick Lussier', 'Patrick Meaney', 'Patrick Read Johnson', 'Patrick Ryan Sims', 'Patrick Stettner', 'Patrick Tatopoulos', 'Patrik Forsberg', 'Patty Jenkins', 'Paul Abascal', 'Paul Andrew Williams', 'Paul Bartel', 'Paul Bolger', 'Paul Brizzi', 'Paul Bunnell', 'Paul Crowder', 'Paul Demeyer', 'Paul Donovan', 'Paul Feig', 'Paul Fierlinger', 'Paul Fox', 'Paul Greengrass', 'Paul Gross', 'Paul Haggis', 'Paul Hunter', 'Paul J. Lombardi', 'Paul King', 'Paul Mazursky', 'Paul McGuigan', 'Paul Michael Glaser', 'Paul Sabella', 'Paul Satterfield', 'Paul Schrader', 'Paul Thomas Anderson', 'Paul Tibbitt', 'Paul Verhoeven', 'Paul W.S. Anderson', 'Paul Weiland', 'Paul Weitz', 'Pawan Kumar', 'Pawel Pawlikowski', 'Pece Dingo', 'Pedro Almodóvar', 'Penelope Spheeris', 'Penny Marshall', 'Perce Pearce', 'Perry Andelin Blake', 'Perry Lang', 'Pete Docter', 'Pete Jones', 'Pete Travis', 'Peter Atencio', 'Peter Berg', 'Peter Billingsley', 'Peter Bogdanovich', 'Peter Care', 'Peter Cattaneo', 'Peter Chelsom', 'Peter Cousens', 'Peter DeLuise', 'Peter Faiman', 'Peter Farrelly', 'Peter Flinth', 'Peter H. Hunt', 'Peter Hastings', 'Peter Hedges', 'Peter Hewitt', 'Peter Ho-Sun Chan', 'Peter Horak', 'Peter Howitt', 'Peter Hyams', 'Peter Jackson', 'Peter Kassovitz', 'Peter Kosminsky', 'Peter Landesman', 'Peter Lepeniotis', 'Peter Lord', 'Peter M. Cohen', 'Peter MacDonald', 'Peter Medak', 'Peter R. Hunt', 'Peter Ramsey', 'Peter Segal', 'Peter Sohn', 'Peter Sollett', 'Peter Spierig', 'Peter Stebbings', 'Peter Webber', 'Peter Weir', 'Peter Yates', 'Petter Næss', 'Peyton Reed', 'Phil Alden Robinson', 'Phil Claydon', 'Phil Joanou', 'Phil Lord', 'Phil Morrison', 'Phil Traill', 'Phil Vischer', 'Philip G. Atwell', 'Philip Kaufman', 'Philip Saville', 'Philip Zlotorynski', 'Phillip Noyce', 'Phyllida Lloyd', 'Pierre Coffin', 'Pierre Morel', 'Pino Van Lamsweerde', 'Pitof', 'Pixote Hunt', 'Piyush Dinker Pandya', 'Pou-Soi Cheang', 'Prabhudheva', 'Prachya Pinkaew', 'Pradeep Sarkar', 'Prakash Jha', 'Preston A. Whitmore II', 'Priyadarshan', 'Puri Jagannadh', 'Qasim Basir', 'Qiang Zhong', 'Quentin Dupieux', 'Quentin Tarantino', 'R. Balki', 'R.J. Cutler', 'RZA', 'Rachel Goldenberg', 'Rachel Grady', 'Rachel Perkins', 'Rachel Talalay', 'Radhika Rao', 'Radu Mihaileanu', 'Rafa Lara', 'Rafael Portillo', 'Raj Kumar Gupta', 'Raja Gosnell', 'Raja Menon', 'Rajat Kapoor', 'Rajiv Rai', 'Rajkumar Hirani', 'Rajkumar Santoshi', 'Rakesh Roshan', 'Rakeysh Omprakash Mehra', 'Ralph Etter', 'Ralph Fiennes', 'Ralph Nelson', 'Ralph Ziman', 'Ralph Zondag', 'Ram Gopal Varma', 'Ram Madhvani', 'Ramaa Mosley', 'Raman Hui', 'Ramesh Sippy', 'Rand Ravich', 'Randal Kleiser', 'Randall Miller', 'Randall Rubin', 'Randall Wallace', 'Randy Barbato', 'Randy Moore', 'Rania Attieh', 'Ravi Chopra', 'Rawson Marshall Thurber', 'Ray Dennis Steckler', 'Ray Griggs', 'Ray Lawrence', 'Raymond De Felitta', 'Rebecca Miller', 'Reed Cowan', 'Reema Kagti', 'Regardt van den Bergh', 'Reginald Hudlin', 'Reinhard Klooss', 'Remo', 'Renny Harlin', 'René Cardona', 'René Féret', 'Rian Johnson', 'Ribhu Dasgupta', 'Ric Roman Waugh', 'Rich Christiano', 'Rich Cowan', 'Rich Moore', 'Richard Ashe', 'Richard Attenborough', 'Richard Ayoade', 'Richard Benjamin', 'Richard Boddington', 'Richard Brooks', 'Richard Ciupka', 'Richard Curtis', 'Richard Donner', 'Richard Dutcher', 'Richard E. Grant', 'Richard Eyre', 'Richard Fleischer', 'Richard Glatzer', 'Richard J. Lewis', 'Richard Kelly', 'Richard Kwietniowski', 'Richard LaGravenese', 'Richard Lester', 'Richard Linklater', 'Richard Loncraine', 'Richard Marquand', 'Richard Montoya', 'Richard Raymond', 'Richard Rich', 'Richard Schenkman', 'Richard Shepard', 'Richard Stanley', 'Richard Wallace', 'Richard Williams', 'Rick Bieber', 'Rick Famuyiwa', 'Rick Friedberg', 'Rick Rosenthal', 'Rick Sloane', 'Rick de Oliveira', 'Ricki Stern', 'Ricky Gervais', 'Ridley Scott', 'Ringo Lam', 'Risa Bramon Garcia', 'Rita Merson', 'Ritesh Batra', 'Rob Bowman', 'Rob Cohen', 'Rob Hawk', 'Rob Hedden', 'Rob Letterman', 'Rob Marshall', 'Rob McKittrick', 'Rob Minkoff', 'Rob Pritts', 'Rob Reiner', 'Rob Schmidt', 'Rob Zombie', 'Robby Henson', 'Robert Adetuyi', 'Robert Aldrich', 'Robert Altman', 'Robert B. Weide', 'Robert Ben Garant', 'Robert Bennett', 'Robert Butler', 'Robert C. Cooper', 'Robert Cary', 'Robert D. Webb', 'Robert Duvall', 'Robert Eggers', 'Robert Fontaine', 'Robert Greenwald', 'Robert Hall', 'Robert Hamer', 'Robert Harmon', 'Robert Heath', 'Robert Iscove', 'Robert Kenner', 'Robert Lee King', 'Robert Lorenz', 'Robert Luketic', 'Robert M. Young', 'Robert Marcarelli', 'Robert Moresco', 'Robert Mulligan', 'Robert Pulcini', 'Robert Redford', 'Robert Rodriguez', 'Robert Rossen', 'Robert Sarkies', 'Robert Schwentke', 'Robert Stevenhagen', 'Robert Stevenson', 'Robert Stromberg', 'Robert Towne', 'Robert Townsend', 'Robert Wise', 'Robert Zemeckis', 'Roberto Benigni', 'Robin Budd', 'Robinson Devor', 'Rocky Morton', 'Rod Lurie', 'Rodman Flender', 'Rodrigo Cortés', 'Rodrigo García', 'Roger Allers', 'Roger Avary', 'Roger Christian', 'Roger Donaldson', 'Roger Hawkins', 'Roger Kumble', 'Roger Michell', 'Roger Nygard', 'Roger Spottiswoode', 'Roger Vadim', 'Rohan Sippy', 'Rohit Jagessar', 'Rohit Jugraj', 'Rohit Shetty', 'Roland Emmerich', 'Roland Joffé', 'Roland Suso Richter', 'Roman Polanski', 'Romesh Sharma', 'Ron Clements', 'Ron Fricke', 'Ron Howard', 'Ron Maxwell', 'Ron Shelton', 'Ron Underwood', 'Ronald Neame', 'Ronan Chapalain', 'Ronnie Del Carmen', 'Ronny Yu', 'Rouben Mamoulian', 'Rowan Joffe', 'Rowdy Herrington', 'Ruairi Robinson', 'Ruba Nadda', 'Ruben Fleischer', 'Ruggero Deodato', 'Rupert Sanders', 'Rupert Wainwright', 'Rupert Wyatt', 'Russ Meyer', 'Russell Crowe', 'Russell Friedenberg', 'Russell Holt', 'Russell Mulcahy', 'Rusty Cundieff', 'Ryan Coogler', 'Ryan Fleck', 'Ryan Little', 'Ryan Murphy', 'Ryan Smith', 'Ryûhei Kitamura', 'S. Shankar', 'S.R. Bindler', 'S.S. Rajamouli', 'Sacha Bennett', 'Sadullah Sentürk', 'Sadyk Sher-Niyaz', 'Sagar Ballary', 'Sai Varadan', 'Sajid Khan', 'Saket Chaudhary', 'Salim Akil', 'Sally Potter', 'Salvador Carrasco', 'Sam Fell', 'Sam Firstenberg', 'Sam Levinson', 'Sam Mendes', 'Sam Miller', 'Sam Mraovich', 'Sam Newfield', 'Sam Peckinpah', 'Sam Raimi', 'Sam Taylor-Johnson', 'Sam Weisman', 'Sam Wood', 'Sammo Kam-Bo Hung', 'Samuel Armstrong', 'Sanaa Hamri', 'Sandra Fierlinger', 'Sanjay Gupta', 'Sanjay Leela Bhansali', 'Sanjay Rawal', 'Sankalp Reddy', 'Sara Newens', 'Sara Sugarman', 'Sarah Gavron', 'Sarah Smith', 'Sarik Andreasyan', 'Satish Kaushik', 'Satyajit Ray', 'Saul Dibb', 'Scandar Copti', 'Scott Alexander', 'Scott Cooper', 'Scott Derrickson', 'Scott Dow', 'Scott Foley', 'Scott Frank', 'Scott Hicks', 'Scott Hillenbrand', 'Scott Kalvert', 'Scott Mann', 'Scott Marshall', 'Scott Moore', 'Scott Sanders', 'Scott Smith', 'Scott Speer', 'Scott Stewart', 'Scott Walker', 'Scott Waugh', 'Scott Ziehl', 'Sean Anders', 'Sean Byrne', 'Sean Durkin', 'Sean McNamara', 'Sean Penn', 'Sebastian Doggart', 'Serdar Akar', 'Sergei Bodrov', 'Sergey Bondarchuk', 'Sergio Leone', 'Seth Gordon', 'Seth MacFarlane', 'Seth Rogen', 'Shaad Ali', 'Shakun Batra', 'Shana Feste', 'Shane Acker', 'Shane Black', 'Shane Carruth', 'Shane Dawson', 'Shane Meadows', 'Sharat Katariya', 'Shari Springer Berman', 'Sharon Greytak', 'Sharon Maguire', 'Sharron Miller', 'Shawn Levy', 'Shekar', 'Shekhar Kapur', 'Sheldon Lettich', 'Sherman Alexie', 'Shichuan Zhang', 'Shimit Amin', 'Shinji Aramaki', 'Shinji Higuchi', 'Shintaro Shimosawa', 'Shona Auerbach', 'Shoojit Sircar', 'Shyam Madiraju', 'Siddharth Anand', 'Siddiq Barmak', 'Sidney Franklin', 'Sidney J. Furie', 'Sidney Lumet', 'Simeon Rice', 'Simon Curtis', 'Simon J. Smith', 'Simon Napier-Bell', 'Simon Wells', 'Simon West', 'Simon Wincer', 'Simon Yin', 'Sngmoo Lee', 'Sofia Coppola', 'Sol Tryon', 'Sooraj R. Barjatya', 'Spencer Susser', 'Spike Jonze', 'Spike Lee', 'Sreenu Vaitla', 'Sriram Raghavan', 'Stacie Hawkins', 'Stacy Peralta', 'Stanley Donen', 'Stanley Kramer', 'Stanley Kubrick', 'Stanley Tong', 'Stanton Barrett', 'Stefan C. Schaefer', 'Stefan Ruzowitzky', 'Stefan Schwartz', 'Stefen Fangmeier', 'Stephan Elliott', 'Stephen Carpenter', 'Stephen Chbosky', 'Stephen Chow', 'Stephen Daldry', 'Stephen Frears', 'Stephen Gaghan', 'Stephen Herek', 'Stephen Hillenburg', 'Stephen Hopkins', 'Stephen J. Anderson', 'Stephen Kay', 'Stephen Kijak', 'Stephen Langford', 'Stephen Milburn Anderson', 'Stephen Norrington', 'Stephen Sommers', 'Stephen St. Leger', 'Sterling Van Wagenen', 'Stevan Mena', 'Steve Antin', 'Steve Barron', 'Steve Beck', 'Steve Bendelack', 'Steve Box', 'Steve Boyum', 'Steve Buscemi', 'Steve Carr', 'Steve Carver', 'Steve Gomer', 'Steve Hickner', 'Steve James', 'Steve Martino', 'Steve McQueen', 'Steve Miner', 'Steve Oedekerk', 'Steve Pink', 'Steve Purcell', 'Steve Rash', 'Steve Taylor', 'Steve Trenbirth', 'Steven Brill', 'Steven E. de Souza', 'Steven Greenstreet', 'Steven Quale', 'Steven R. Monroe', 'Steven Seagal', 'Steven Shainberg', 'Steven Soderbergh', 'Steven Spielberg', 'Steven Zaillian', 'Stewart Hendler', 'Stewart Raffill', 'Stig Bergqvist', 'Stiles White', 'Strathford Hamilton', 'Stuart Baird', 'Stuart Beattie', 'Stuart Gillard', 'Stuart Gordon', 'Stuart Hazeldine', 'Stuart Ortiz', 'Stuart Rosenberg', 'Stéphane Aubier', 'Subhash Ghai', 'Subhash Kapoor', 'Sudha Kongara', 'Sue Corcoran', 'Sujoy Ghosh', 'Sukumar', 'Sundar C.', 'Suresh Krishna', 'Surrender Reddy', 'Susan Seidelman', 'Susan Stroman', 'Susanna White', 'Susanne Bier', 'Sut Jhally', 'Svyatoslav Ushakov', 'Sydney Pollack', 'Sylvain Chomet', 'Sylvain White', 'Sylvester Stallone', 'Sylvio Tabet', 'T. Hee', 'Tadeo Garcia', 'Taedong Park', 'Takao Okawara', 'Takashi Shimizu', 'Takashi Yamazaki', 'Takeshi Kitano', 'Tamara Jenkins', 'Tamra Davis', 'Taner Akvardar', 'Tanner Beard', 'Tara Subkoff', 'Tarsem Singh', 'Tate Taylor', 'Tatiana von Furstenberg', 'Tay Garnett', 'Tayfun Güneyer', 'Taylor Hackford', 'Taylor Scott Olson', 'Ted Demme', 'Ted Kotcheff', 'Ted Post', 'Ted V. Mikels', 'Teddy Chan', 'Terence Davies', 'Terence Young', 'Terrence Malick', 'Terron R. Parsons', 'Terry George', 'Terry Gilliam', 'Terry Jones', 'Terry Zwigoff', \"Thaddeus O'Sullivan\", 'The Vicious Brothers', 'Thea Sharrock', 'Theodore Melfi', 'Theodore Witcher', 'Thomas Bezucha', 'Thomas Carter', 'Thomas L. Phillips', 'Thomas Langmann', 'Thomas Lilti', 'Thomas Vinterberg', 'Thor Freudenthal', 'Thorbjørn Christoffersen', 'Ti West', 'Tigmanshu Dhulia', 'Tim Blake Nelson', 'Tim Boxell', 'Tim Burton', 'Tim Chambers', 'Tim Fywell', 'Tim Heidecker', 'Tim Hill', 'Tim Hunter', 'Tim Johnson', 'Tim McCanlies', 'Tim Miller', 'Tim Robbins', 'Tim Story', 'Timothy Björklund', 'Timothy Hines', 'Timothy Woodward Jr.', 'Timur Bekmambetov', 'Tina Gordon Chism', 'Tobe Hooper', 'Tod Williams', 'Todd Edwards', 'Todd Field', 'Todd Graff', 'Todd Haynes', 'Todd Lincoln', 'Todd Phillips', 'Todd Solondz', 'Todd Strauss-Schulson', 'Tom Brady', 'Tom Dey', 'Tom DiCillo', 'Tom Elkins', 'Tom Ford', 'Tom Gormican', 'Tom Green', 'Tom Hanks', 'Tom Holland', 'Tom Hooper', 'Tom Kalin', 'Tom McCarthy', 'Tom McGrath', 'Tom McLoughlin', 'Tom Putnam', 'Tom Reeve', 'Tom Sanchez', 'Tom Schulman', 'Tom Seidman', 'Tom Shadyac', 'Tom Tykwer', 'Tom Vaughan', 'Tom Walsh', 'Tomas Alfredson', 'Tomm Moore', 'Tommy Lee Jones', 'Tommy Lee Wallace', \"Tommy O'Haver\", 'Tommy Oliver', 'Tommy Wirkola', 'Tony Bancroft', 'Tony Bill', 'Tony Giglio', 'Tony Gilroy', 'Tony Goldwyn', 'Tony Jaa', 'Tony Kaye', 'Tony Krantz', 'Tony Leech', 'Tony Maylam', 'Tony Randel', 'Tony Richardson', 'Tony Scott', 'Toshio Masuda', 'Tran Anh Hung', 'Travis Cluff', 'Travis Legge', 'Travis Romero', 'Travis Zariwny', 'Trent Cooper', 'Trevor Matthews', 'Trevor Moore', 'Trey Parker', 'Trivikram Srinivas', 'Troy Duffy', 'Troy Miller', 'Troy Nixey', 'Tuck Tucker', 'Tung-Shing Yee', 'Tyler Gillett', 'Tyler Oliver', 'Tyler Perry', 'U. Roberto Romano', 'Udayan Prasad', 'Ugo Fabrizio Giordani', 'Uli Edel', 'Ulli Lommel', 'Ulu Grosbard', 'Umesh Ghadge', 'Umesh Shukla', 'Upendra', 'Uwe Boll', 'Vadim Perelman', 'Valentine', 'Valeri Milev', 'Valerie Breiman', 'Valerie Faris', 'Valerie Red-Horse', 'Venkat Prabhu', 'Vera Farmiga', 'Vic Armstrong', 'Vic Sarin', 'Vicente Amorim', 'Vicky Jenson', 'Vicky Jewson', 'Victor Fleming', 'Victor Nunez', 'Victor Salva', 'Victor Säf', 'Victor Teran', 'Victor Vu', 'Vidhu Vinod Chopra', 'Vijay Chandar', 'Vijay Lalwani', 'Vikas Bahl', 'Vikram Bhatt', 'Vikram K. Kumar', 'Vikramaditya Motwane', 'Vinay Sapru', 'Vincent Gallo', 'Vincent Paronnaud', 'Vincent Patar', 'Vincent Ward', 'Vincente Minnelli', 'Vincenzo Natali', 'Vipul Amrutlal Shah', 'Vishal Bhardwaj', 'Vittorio De Sica', 'Vivek Agnihotri', 'Vladlen Barbe', 'Vondie Curtis-Hall', 'W.D. Hogan', 'W.S. Van Dyke', 'Wade Gasque', 'Wai Man Yip', 'Wai-Keung Lau', 'Wajahat Rauf', 'Wallace Wolodarsky', 'Wally Pfister', 'Walt Becker', 'Walt Dohrn', 'Walter Hill', 'Walter Lang', 'Walter Murch', 'Walter Salles', 'Ward Roberts', 'Warren Beatty', 'Warren Coleman', 'Warren P. Sonoda', 'Warren Sheppard', 'Wash Westmoreland', 'Wayne Beach', 'Wayne Kramer', 'Wayne Thornley', 'Wayne Wang', 'Werner Herzog', 'Wes Anderson', 'Wes Ball', 'Wes Craven', 'Whit Stillman', 'Wil Shriner', 'Wilfred Jackson', 'Will Canon', 'Will Finn', 'Will Gluck', 'Will Graham', 'Will Speck', 'Will Zens', 'Willard Huyck', 'William A. Fraker', 'William A. Graham', 'William Arntz', 'William Bindley', 'William Brent Bell', 'William Cameron Menzies', 'William Cottrell', 'William Dear', 'William Dieterle', 'William Eubank', 'William Friedkin', 'William Gazecki', 'William H. Macy', 'William Heins', 'William Kaufman', 'William Malone', 'William Phillips', 'William Sachs', 'William Shatner', 'William Wyler', 'Wilson Yip', 'Wim Wenders', 'Wolfgang Becker', 'Wolfgang Petersen', 'Woo-Suk Kang', 'Woody Allen', 'Wych Kaosayananda', 'Xavier Beauvois', 'Xavier Gens', 'Xavier Palud', 'Yaron Shani', 'Yarrow Cheney', 'Yash Chopra', 'Yasujirô Ozu', 'Yavuz Turgul', 'Yimou Zhang', 'Yorgos Lanthimos', 'Youssef Delara', 'Yuefeng Song', 'Yvette Kaplan', 'Zach Braff', 'Zach Cregger', 'Zack Snyder', 'Zack Ward', 'Zackary Adler', 'Zak Penn', 'Zal Batmanglij', 'Zoran Lisinac', 'Zoya Akhtar', 'Àlex Pastor', 'Álex de la Iglesia', 'Çagan Irmak', 'Émile Gaudreault', 'Éric Tessier', 'Étienne Faure', 'Box Office_2', 'IMBD Vote_2']\n"
     ]
    }
   ],
   "source": [
    "column_names = list(result_df_5.columns)\n",
    "print(column_names)"
   ]
  },
  {
   "cell_type": "code",
   "execution_count": 37,
   "id": "441458df",
   "metadata": {},
   "outputs": [],
   "source": [
    "# Top rated movies\n",
    "\n",
    "subset = result_df_5[['Title','imdbRating']]"
   ]
  },
  {
   "cell_type": "code",
   "execution_count": 63,
   "id": "41e619ff",
   "metadata": {},
   "outputs": [],
   "source": [
    "df_sorted.to_csv(r'C:\\Users\\runzh\\OneDrive\\Desktop\\top_rated_movies', index=False)"
   ]
  },
  {
   "cell_type": "code",
   "execution_count": 257,
   "id": "d01dcc0b",
   "metadata": {},
   "outputs": [],
   "source": [
    "# Final output \n",
    "\n",
    "result_df_5.to_csv(r'C:\\Users\\runzh\\OneDrive\\Desktop\\IMBD_final_dataset.csv', index=False)"
   ]
  },
  {
   "cell_type": "code",
   "execution_count": null,
   "id": "3126842a",
   "metadata": {},
   "outputs": [],
   "source": [
    "# End"
   ]
  }
 ],
 "metadata": {
  "kernelspec": {
   "display_name": "Python 3 (ipykernel)",
   "language": "python",
   "name": "python3"
  },
  "language_info": {
   "codemirror_mode": {
    "name": "ipython",
    "version": 3
   },
   "file_extension": ".py",
   "mimetype": "text/x-python",
   "name": "python",
   "nbconvert_exporter": "python",
   "pygments_lexer": "ipython3",
   "version": "3.10.9"
  }
 },
 "nbformat": 4,
 "nbformat_minor": 5
}
